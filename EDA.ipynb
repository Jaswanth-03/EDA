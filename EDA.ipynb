{
  "nbformat": 4,
  "nbformat_minor": 0,
  "metadata": {
    "colab": {
      "provenance": [],
      "include_colab_link": true
    },
    "kernelspec": {
      "name": "python3",
      "display_name": "Python 3"
    },
    "language_info": {
      "name": "python"
    }
  },
  "cells": [
    {
      "cell_type": "markdown",
      "metadata": {
        "id": "view-in-github",
        "colab_type": "text"
      },
      "source": [
        "<a href=\"https://colab.research.google.com/github/Jaswanth-03/EDA/blob/main/EDA.ipynb\" target=\"_parent\"><img src=\"https://colab.research.google.com/assets/colab-badge.svg\" alt=\"Open In Colab\"/></a>"
      ]
    },
    {
      "cell_type": "markdown",
      "source": [
        "# basic information about the dataset"
      ],
      "metadata": {
        "id": "Wf-gSZojRnZJ"
      }
    },
    {
      "cell_type": "code",
      "execution_count": null,
      "metadata": {
        "colab": {
          "base_uri": "https://localhost:8080/"
        },
        "id": "T-qRXXZ4WcF9",
        "outputId": "c404f065-9e37-4fbe-aba9-a62044e70be4"
      },
      "outputs": [
        {
          "output_type": "stream",
          "name": "stdout",
          "text": [
            "First few rows of the dataset:\n",
            "   student_id  gender  age  math_score  english_score  science_score\n",
            "0           1    Male   19          90             77             72\n",
            "1           2  Female   21          96             62             82\n",
            "2           3    Male   19          63             58             76\n",
            "3           4  Female   21          61             54             91\n",
            "4           5    Male   18          88             62             64\n",
            "\n",
            "Basic information about the dataset:\n",
            "<class 'pandas.core.frame.DataFrame'>\n",
            "RangeIndex: 10 entries, 0 to 9\n",
            "Data columns (total 6 columns):\n",
            " #   Column         Non-Null Count  Dtype \n",
            "---  ------         --------------  ----- \n",
            " 0   student_id     10 non-null     int64 \n",
            " 1   gender         10 non-null     object\n",
            " 2   age            10 non-null     int64 \n",
            " 3   math_score     10 non-null     int64 \n",
            " 4   english_score  10 non-null     int64 \n",
            " 5   science_score  10 non-null     int64 \n",
            "dtypes: int64(5), object(1)\n",
            "memory usage: 608.0+ bytes\n",
            "None\n",
            "\n",
            "Summary statistics of numerical variables:\n",
            "       student_id        age  math_score  english_score  science_score\n",
            "count    10.00000  10.000000   10.000000      10.000000       10.00000\n",
            "mean      5.50000  20.300000   79.200000      70.200000       76.20000\n",
            "std       3.02765   1.828782   13.348325      15.339129       13.97458\n",
            "min       1.00000  18.000000   61.000000      54.000000       52.00000\n",
            "25%       3.25000  19.000000   67.500000      59.000000       66.00000\n",
            "50%       5.50000  20.000000   81.000000      63.000000       79.00000\n",
            "75%       7.75000  21.000000   90.000000      76.750000       85.00000\n",
            "max      10.00000  24.000000   96.000000      99.000000       96.00000\n",
            "\n",
            "Unique values in categorical variables:\n",
            "['Male' 'Female']\n",
            "\n",
            "Missing values in the dataset:\n",
            "student_id       0\n",
            "gender           0\n",
            "age              0\n",
            "math_score       0\n",
            "english_score    0\n",
            "science_score    0\n",
            "dtype: int64\n"
          ]
        }
      ],
      "source": [
        "import pandas as pd\n",
        "import numpy as np\n",
        "\n",
        "# Generate sample dataset\n",
        "data = pd.DataFrame({\n",
        "    'student_id': range(1, 11),\n",
        "    'gender': ['Male', 'Female'] * 5,\n",
        "    'age': np.random.randint(18, 25, 10),\n",
        "    'math_score': np.random.randint(50, 100, 10),\n",
        "    'english_score': np.random.randint(50, 100, 10),\n",
        "    'science_score': np.random.randint(50, 100, 10)\n",
        "})\n",
        "\n",
        "# Save the dataset to a CSV file\n",
        "data.to_csv(\"student_performance.csv\", index=False)\n",
        "\n",
        "# Load the dataset\n",
        "data = pd.read_csv(\"student_performance.csv\")\n",
        "\n",
        "# Display the first few rows of the dataset\n",
        "print(\"First few rows of the dataset:\")\n",
        "print(data.head())\n",
        "\n",
        "# Get basic information about the dataset\n",
        "print(\"\\nBasic information about the dataset:\")\n",
        "print(data.info())\n",
        "\n",
        "# Summary statistics of numerical variables\n",
        "print(\"\\nSummary statistics of numerical variables:\")\n",
        "print(data.describe())\n",
        "\n",
        "# Check for unique values in categorical variables\n",
        "print(\"\\nUnique values in categorical variables:\")\n",
        "print(data[\"gender\"].unique())\n",
        "\n",
        "# Check for missing values\n",
        "print(\"\\nMissing values in the dataset:\")\n",
        "print(data.isnull().sum())\n"
      ]
    },
    {
      "cell_type": "markdown",
      "source": [
        "# Visualizing patterns"
      ],
      "metadata": {
        "id": "BdyNR3EzRkQP"
      }
    },
    {
      "cell_type": "code",
      "source": [
        "import pandas as pd\n",
        "import numpy as np\n",
        "import matplotlib.pyplot as plt\n",
        "import seaborn as sns\n",
        "\n",
        "# Generate sample dataset\n",
        "np.random.seed(0)\n",
        "data = pd.DataFrame({\n",
        "    'Age': np.random.randint(18, 40, 100),\n",
        "    'Height': np.random.normal(160, 10, 100),\n",
        "    'Weight': np.random.normal(60, 10, 100),\n",
        "    'Score': np.random.randint(0, 100, 100)\n",
        "})\n",
        "\n",
        "# Visualize patterns using histograms\n",
        "plt.figure(figsize=(12, 4))\n",
        "plt.subplot(1, 2, 1)\n",
        "sns.histplot(data['Age'], bins=10, kde=True, color='skyblue')\n",
        "plt.title('Age Distribution')\n",
        "\n",
        "plt.subplot(1, 2, 2)\n",
        "sns.histplot(data['Score'], bins=10, kde=True, color='salmon')\n",
        "plt.title('Score Distribution')\n",
        "plt.tight_layout()\n",
        "plt.show()\n",
        "\n",
        "# Visualize patterns using box plots\n",
        "plt.figure(figsize=(12, 4))\n",
        "plt.subplot(1, 2, 1)\n",
        "sns.boxplot(x='Height', data=data, color='skyblue')\n",
        "plt.title('Height Distribution')\n",
        "\n",
        "plt.subplot(1, 2, 2)\n",
        "sns.boxplot(x='Weight', data=data, color='salmon')\n",
        "plt.title('Weight Distribution')\n",
        "plt.tight_layout()\n",
        "plt.show()\n",
        "\n",
        "# Visualize patterns using scatter plot\n",
        "plt.figure(figsize=(6, 4))\n",
        "sns.scatterplot(x='Height', y='Weight', data=data, color='green')\n",
        "plt.title('Height vs Weight')\n",
        "plt.show()\n",
        "\n",
        "# Visualize patterns using pair plot\n",
        "sns.pairplot(data[['Age', 'Height', 'Weight', 'Score']])\n",
        "plt.suptitle('Pair Plot of Age, Height, Weight, and Score')\n",
        "plt.show()\n",
        "\n",
        "# Visualize patterns using correlation matrix\n",
        "plt.figure(figsize=(8, 6))\n",
        "correlation_matrix = data.corr()\n",
        "sns.heatmap(correlation_matrix, annot=True, cmap='coolwarm')\n",
        "plt.title('Correlation Matrix')\n",
        "plt.show()\n"
      ],
      "metadata": {
        "colab": {
          "base_uri": "https://localhost:8080/",
          "height": 1000
        },
        "id": "KaXMFwxHZJOo",
        "outputId": "b0ecb536-de46-4d56-98f9-dafb734d3181"
      },
      "execution_count": null,
      "outputs": [
        {
          "output_type": "display_data",
          "data": {
            "text/plain": [
              "<Figure size 1200x400 with 2 Axes>"
            ],
            "image/png": "[encoded data removed]"
          },
          "metadata": {}
        },
        {
          "output_type": "display_data",
          "data": {
            "text/plain": [
              "<Figure size 1200x400 with 2 Axes>"
            ],
            "image/png": "[encoded data removed]"
          },
          "metadata": {}
        },
        {
          "output_type": "display_data",
          "data": {
            "text/plain": [
              "<Figure size 600x400 with 1 Axes>"
            ],
            "image/png": "[encoded data removed]"
          },
          "metadata": {}
        },
        {
          "output_type": "display_data",
          "data": {
            "text/plain": [
              "<Figure size 1000x1000 with 20 Axes>"
            ],
            "image/png": "[encoded data removed]"
          },
          "metadata": {}
        },
        {
          "output_type": "display_data",
          "data": {
            "text/plain": [
              "<Figure size 800x600 with 2 Axes>"
            ],
            "image/png": "[encoded data removed]"
          },
          "metadata": {}
        }
      ]
    },
    {
      "cell_type": "markdown",
      "source": [
        "# outliers using box plots"
      ],
      "metadata": {
        "id": "SaUvpt_zSAw2"
      }
    },
    {
      "cell_type": "code",
      "source": [
        "import pandas as pd\n",
        "import numpy as np\n",
        "import matplotlib.pyplot as plt\n",
        "import seaborn as sns\n",
        "\n",
        "# Generate sample dataset\n",
        "np.random.seed(0)\n",
        "data = pd.DataFrame({\n",
        "    'Age': np.random.randint(18, 40, 100),\n",
        "    'Height': np.random.normal(160, 10, 100),\n",
        "    'Weight': np.random.normal(60, 10, 100),\n",
        "    'Score': np.random.randint(0, 100, 100)\n",
        "})\n",
        "\n",
        "# Introduce outliers\n",
        "data.loc[0, 'Height'] = 250  # Introduce an outlier in Height\n",
        "\n",
        "# Visualize outliers using box plots\n",
        "plt.figure(figsize=(12, 4))\n",
        "plt.subplot(1, 2, 1)\n",
        "sns.boxplot(x='Height', data=data, color='skyblue')\n",
        "plt.title('Box Plot of Height (with Outlier)')\n",
        "\n",
        "plt.subplot(1, 2, 2)\n",
        "sns.boxplot(x='Weight', data=data, color='salmon')\n",
        "plt.title('Box Plot of Weight (without Outlier)')\n",
        "plt.tight_layout()\n",
        "plt.show()\n"
      ],
      "metadata": {
        "colab": {
          "base_uri": "https://localhost:8080/",
          "height": 407
        },
        "id": "9JJz417nZT2j",
        "outputId": "8470cbb2-944b-4daf-849c-7c0d18f5217d"
      },
      "execution_count": null,
      "outputs": [
        {
          "output_type": "display_data",
          "data": {
            "text/plain": [
              "<Figure size 1200x400 with 2 Axes>"
            ],
            "image/png": "[encoded data removed]"
          },
          "metadata": {}
        }
      ]
    },
    {
      "cell_type": "code",
      "source": [
        "import pandas as pd\n",
        "import numpy as np\n",
        "import matplotlib.pyplot as plt\n",
        "import seaborn as sns\n",
        "\n",
        "# Generate sample dataset\n",
        "np.random.seed(0)\n",
        "data = pd.DataFrame({\n",
        "    'Age': np.random.randint(18, 40, 100),\n",
        "    'Height': np.random.normal(160, 10, 100),\n",
        "    'Weight': np.random.normal(60, 10, 100),\n",
        "    'Score': np.random.randint(0, 100, 100)\n",
        "})\n",
        "\n",
        "# Introduce outliers\n",
        "data.loc[0, 'Height'] = 250  # Introduce an outlier in Height\n",
        "\n",
        "# Detect outliers using z-scores\n",
        "z_scores = (data['Height'] - data['Height'].mean()) / data['Height'].std()\n",
        "outliers_zscore = data[np.abs(z_scores) > 3]  # Threshold for extreme outliers\n",
        "\n",
        "# Detect outliers using IQR\n",
        "Q1 = data['Weight'].quantile(0.25)\n",
        "Q3 = data['Weight'].quantile(0.75)\n",
        "IQR = Q3 - Q1\n",
        "outliers_iqr = data[(data['Weight'] < Q1 - 1.5 * IQR) | (data['Weight'] > Q3 + 1.5 * IQR)]\n",
        "\n",
        "# Visualize outliers using box plots\n",
        "plt.figure(figsize=(12, 4))\n",
        "plt.subplot(1, 2, 1)\n",
        "sns.boxplot(x='Height', data=data, color='skyblue')\n",
        "plt.scatter(outliers_zscore.index, outliers_zscore['Height'], color='red', label='Outliers (Z-score)')\n",
        "plt.title('Box Plot of Height with Outliers Detected by Z-score')\n",
        "\n",
        "plt.subplot(1, 2, 2)\n",
        "sns.boxplot(x='Weight', data=data, color='salmon')\n",
        "plt.scatter(outliers_iqr.index, outliers_iqr['Weight'], color='red', label='Outliers (IQR)')\n",
        "plt.title('Box Plot of Weight with Outliers Detected by IQR')\n",
        "plt.legend()\n",
        "plt.tight_layout()\n",
        "plt.show()\n",
        "\n",
        "# Determine if outliers are legitimate or due to data errors\n",
        "print(\"Outliers detected by Z-score:\")\n",
        "print(outliers_zscore)\n",
        "\n",
        "print(\"\\nOutliers detected by IQR:\")\n",
        "print(outliers_iqr)\n"
      ],
      "metadata": {
        "colab": {
          "base_uri": "https://localhost:8080/",
          "height": 546
        },
        "id": "xb19R4F5aGvL",
        "outputId": "14c2afa0-8826-4d17-8041-9d589d125387"
      },
      "execution_count": null,
      "outputs": [
        {
          "output_type": "display_data",
          "data": {
            "text/plain": [
              "<Figure size 1200x400 with 2 Axes>"
            ],
            "image/png": "[encoded data removed]"
          },
          "metadata": {}
        },
        {
          "output_type": "stream",
          "name": "stdout",
          "text": [
            "Outliers detected by Z-score:\n",
            "   Age  Height     Weight  Score\n",
            "0   30   250.0  52.552452     84\n",
            "\n",
            "Outliers detected by IQR:\n",
            "Empty DataFrame\n",
            "Columns: [Age, Height, Weight, Score]\n",
            "Index: []\n"
          ]
        }
      ]
    },
    {
      "cell_type": "markdown",
      "source": [
        "# Handle missing values"
      ],
      "metadata": {
        "id": "fPHtzapjSGln"
      }
    },
    {
      "cell_type": "code",
      "source": [
        "import pandas as pd\n",
        "import numpy as np\n",
        "\n",
        "# Create a sample dataset with missing values\n",
        "data = pd.DataFrame({\n",
        "    'A': [1, 2, np.nan, 4, 5],\n",
        "    'B': [np.nan, 7, 8, np.nan, 10],\n",
        "    'C': ['a', 'b', np.nan, 'd', 'e']\n",
        "})\n",
        "\n",
        "# Display the dataset\n",
        "print(\"Sample dataset with missing values:\")\n",
        "print(data)\n",
        "\n",
        "# Identify missing values\n",
        "missing_values = data.isnull()\n",
        "print(\"\\nMissing values in the dataset:\")\n",
        "print(missing_values)\n",
        "\n",
        "# Understand patterns of missing values\n",
        "missing_patterns = missing_values.sum()\n",
        "print(\"\\nPatterns of missing values:\")\n",
        "print(missing_patterns)\n",
        "\n",
        "# Handle missing values using imputation (filling missing values with mean)\n",
        "data_imputed = data.fillna(data.mean())\n",
        "print(\"\\nDataset after imputation (filling missing values with mean):\")\n",
        "print(data_imputed)\n",
        "\n",
        "# Handle missing values using deletion (removing rows with missing values)\n",
        "data_dropped = data.dropna()\n",
        "print(\"\\nDataset after deletion (removing rows with missing values):\")\n",
        "print(data_dropped)\n"
      ],
      "metadata": {
        "id": "Rwp57TBTaon2",
        "colab": {
          "base_uri": "https://localhost:8080/"
        },
        "outputId": "75fabe5b-fa75-4a46-c82b-9c05b65bb61e"
      },
      "execution_count": null,
      "outputs": [
        {
          "output_type": "stream",
          "name": "stdout",
          "text": [
            "Sample dataset with missing values:\n",
            "     A     B    C\n",
            "0  1.0   NaN    a\n",
            "1  2.0   7.0    b\n",
            "2  NaN   8.0  NaN\n",
            "3  4.0   NaN    d\n",
            "4  5.0  10.0    e\n",
            "\n",
            "Missing values in the dataset:\n",
            "       A      B      C\n",
            "0  False   True  False\n",
            "1  False  False  False\n",
            "2   True  False   True\n",
            "3  False   True  False\n",
            "4  False  False  False\n",
            "\n",
            "Patterns of missing values:\n",
            "A    1\n",
            "B    2\n",
            "C    1\n",
            "dtype: int64\n",
            "\n",
            "Dataset after imputation (filling missing values with mean):\n",
            "     A          B    C\n",
            "0  1.0   8.333333    a\n",
            "1  2.0   7.000000    b\n",
            "2  3.0   8.000000  NaN\n",
            "3  4.0   8.333333    d\n",
            "4  5.0  10.000000    e\n",
            "\n",
            "Dataset after deletion (removing rows with missing values):\n",
            "     A     B  C\n",
            "1  2.0   7.0  b\n",
            "4  5.0  10.0  e\n"
          ]
        },
        {
          "output_type": "stream",
          "name": "stderr",
          "text": [
            "<ipython-input-1-c7a3d11a9acf>:26: FutureWarning: The default value of numeric_only in DataFrame.mean is deprecated. In a future version, it will default to False. In addition, specifying 'numeric_only=None' is deprecated. Select only valid columns or specify the value of numeric_only to silence this warning.\n",
            "  data_imputed = data.fillna(data.mean())\n"
          ]
        }
      ]
    },
    {
      "cell_type": "markdown",
      "source": [
        "# Identify wrong data or wrong format data"
      ],
      "metadata": {
        "id": "c1ORwEDmSNZU"
      }
    },
    {
      "cell_type": "code",
      "source": [
        "import pandas as pd\n",
        "\n",
        "# Create a sample dataset with wrong data/wrong format data\n",
        "data = pd.DataFrame({\n",
        "    'ID': [1, 2, 3, 4, 5],\n",
        "    'Name': ['Alice', 'Bob', 'Charlie', 'David', 'Eve'],\n",
        "    'Age': [25, '30s', 35, '40', 45],  # '30s' and '40' are wrong format data\n",
        "    'Gender': ['Female', 'Male', 'Male', 'Male', 'Female'],\n",
        "    'Income': ['$50,000', '$60,000', '$70,000', '$80,000', '90,000']  # '90,000' is wrong data\n",
        "})\n",
        "\n",
        "# Display the dataset\n",
        "print(\"Sample dataset with wrong data/wrong format data:\")\n",
        "print(data)\n",
        "\n",
        "# Identify wrong data or wrong format data in the 'Age' column\n",
        "wrong_age_data = data[~data['Age'].astype(str).str.isdigit()]\n",
        "print(\"\\nRows with wrong data/wrong format data in the 'Age' column:\")\n",
        "print(wrong_age_data)\n",
        "\n",
        "# Convert 'Age' column to numeric and coerce errors to NaN\n",
        "data['Age'] = pd.to_numeric(data['Age'], errors='coerce')\n",
        "\n",
        "# Identify wrong data in the 'Income' column\n",
        "wrong_income_data = data[~data['Income'].str.replace('$', '').str.replace(',', '').str.isdigit()]\n",
        "print(\"\\nRows with wrong data in the 'Income' column:\")\n",
        "print(wrong_income_data)\n",
        "\n",
        "# Remove dollar sign and comma from 'Income' column and convert to numeric\n",
        "data['Income'] = data['Income'].str.replace('$', '').str.replace(',', '').astype(float)\n",
        "\n",
        "# Display the cleaned dataset\n",
        "print(\"\\nCleaned dataset:\")\n",
        "print(data)\n"
      ],
      "metadata": {
        "colab": {
          "base_uri": "https://localhost:8080/"
        },
        "id": "ONhRYwMGf06_",
        "outputId": "34af5dbe-2ac7-4ef7-cb0b-b3c0528b7c71"
      },
      "execution_count": null,
      "outputs": [
        {
          "output_type": "stream",
          "name": "stdout",
          "text": [
            "Sample dataset with wrong data/wrong format data:\n",
            "   ID     Name  Age  Gender   Income\n",
            "0   1    Alice   25  Female  $50,000\n",
            "1   2      Bob  30s    Male  $60,000\n",
            "2   3  Charlie   35    Male  $70,000\n",
            "3   4    David   40    Male  $80,000\n",
            "4   5      Eve   45  Female   90,000\n",
            "\n",
            "Rows with wrong data/wrong format data in the 'Age' column:\n",
            "   ID Name  Age Gender   Income\n",
            "1   2  Bob  30s   Male  $60,000\n",
            "\n",
            "Rows with wrong data in the 'Income' column:\n",
            "Empty DataFrame\n",
            "Columns: [ID, Name, Age, Gender, Income]\n",
            "Index: []\n",
            "\n",
            "Cleaned dataset:\n",
            "   ID     Name   Age  Gender   Income\n",
            "0   1    Alice  25.0  Female  50000.0\n",
            "1   2      Bob   NaN    Male  60000.0\n",
            "2   3  Charlie  35.0    Male  70000.0\n",
            "3   4    David  40.0    Male  80000.0\n",
            "4   5      Eve  45.0  Female  90000.0\n"
          ]
        },
        {
          "output_type": "stream",
          "name": "stderr",
          "text": [
            "<ipython-input-2-88de9e510208>:25: FutureWarning: The default value of regex will change from True to False in a future version. In addition, single character regular expressions will *not* be treated as literal strings when regex=True.\n",
            "  wrong_income_data = data[~data['Income'].str.replace('$', '').str.replace(',', '').str.isdigit()]\n",
            "<ipython-input-2-88de9e510208>:30: FutureWarning: The default value of regex will change from True to False in a future version. In addition, single character regular expressions will *not* be treated as literal strings when regex=True.\n",
            "  data['Income'] = data['Income'].str.replace('$', '').str.replace(',', '').astype(float)\n"
          ]
        }
      ]
    },
    {
      "cell_type": "markdown",
      "source": [
        "# checking for enough data for the intended analysis"
      ],
      "metadata": {
        "id": "99jnqGbuSWQG"
      }
    },
    {
      "cell_type": "code",
      "source": [
        "import pandas as pd\n",
        "import numpy as np\n",
        "\n",
        "# Create a sample dataset with limited data\n",
        "data = pd.DataFrame({\n",
        "    'Feature_1': np.random.rand(100),\n",
        "    'Feature_2': np.random.rand(100),\n",
        "    'Target': np.random.randint(0, 2, 100)  # Binary classification target variable\n",
        "})\n",
        "\n",
        "# Display the shape of the dataset\n",
        "print(\"Shape of the dataset:\")\n",
        "print(data.shape)\n",
        "\n",
        "# Assess whether the dataset contains enough data for the intended analysis\n",
        "num_samples = len(data)\n",
        "num_features = data.shape[1] - 1  # Exclude the target variable\n",
        "num_classes = len(data['Target'].unique())\n",
        "print(\"\\nnum_features:\",num_features)\n",
        "print(\"\\nnum_classes:\",num_classes)\n",
        "print(\"\\nnum_samples:\",num_samples)\n",
        "\n",
        "# Calculate factors such as data complexity, variability, and desired statistical power\n",
        "complexity_factor = num_features * num_classes\n",
        "variability_factor = num_samples / (num_samples - num_features)\n",
        "statistical_power = 0.8  # Desired level of statistical power\n",
        "print(\"\\nvariability_factor:\",variability_factor)\n",
        "print(\"\\ncomplexity_factor:\",complexity_factor)\n",
        "\n",
        "# Check if the dataset contains enough data based on the factors\n",
        "if num_samples >= complexity_factor * variability_factor * statistical_power:\n",
        "    print(\"\\nThe dataset contains enough data for the intended analysis.\")\n",
        "else:\n",
        "    print(\"\\nThe dataset may not contain enough data for the intended analysis. Strategies such as data augmentation or collecting additional data may be necessary.\")\n"
      ],
      "metadata": {
        "colab": {
          "base_uri": "https://localhost:8080/"
        },
        "id": "d4xu3NlPh1ET",
        "outputId": "b26389be-d6c8-40d1-a997-4a79b89aefa1"
      },
      "execution_count": null,
      "outputs": [
        {
          "output_type": "stream",
          "name": "stdout",
          "text": [
            "Shape of the dataset:\n",
            "(100, 3)\n",
            "\n",
            "num_features: 2\n",
            "\n",
            "num_classes: 2\n",
            "\n",
            "num_samples: 100\n",
            "\n",
            "variability_factor: 1.0204081632653061\n",
            "\n",
            "complexity_factor: 4\n",
            "\n",
            "The dataset contains enough data for the intended analysis.\n"
          ]
        }
      ]
    },
    {
      "cell_type": "markdown",
      "source": [
        "# log transformation"
      ],
      "metadata": {
        "id": "DRM1Tpg0Shgt"
      }
    },
    {
      "cell_type": "code",
      "source": [
        "import numpy as np\n",
        "\n",
        "# Generate a sample dataset with skewed distribution\n",
        "np.random.seed(0)\n",
        "data = np.random.exponential(scale=1, size=1000)  # Exponential distribution with high skewness\n",
        "\n",
        "# Apply log transformation to the data\n",
        "transformed_data = np.log(data)\n",
        "\n",
        "# Display original and transformed data\n",
        "print(\"Original data:\")\n",
        "print(data[:5])\n",
        "print(\"\\nTransformed data (after applying log transformation):\")\n",
        "print(transformed_data[:5])\n"
      ],
      "metadata": {
        "colab": {
          "base_uri": "https://localhost:8080/"
        },
        "id": "IXSLoVWyp9kr",
        "outputId": "160e5ef8-60de-4cd6-ff8e-f04106d91bb9"
      },
      "execution_count": null,
      "outputs": [
        {
          "output_type": "stream",
          "name": "stdout",
          "text": [
            "Original data:\n",
            "[0.79587451 1.25593076 0.92322315 0.78720115 0.55104849]\n",
            "\n",
            "Transformed data (after applying log transformation):\n",
            "[-0.22831376  0.22787694 -0.07988431 -0.23927147 -0.59593247]\n"
          ]
        }
      ]
    },
    {
      "cell_type": "code",
      "source": [
        "import numpy as np\n",
        "import matplotlib.pyplot as plt\n",
        "\n",
        "# Generate a sample dataset with skewed distribution\n",
        "np.random.seed(0)\n",
        "data = np.random.exponential(scale=1, size=1000) # Exponential distribution with high skewness\n",
        "\n",
        "# Apply log transformation to the data\n",
        "transformed_data = np.log(data)\n",
        "\n",
        "# Display original and transformed data\n",
        "print(\"Original data:\")\n",
        "print(data[:5])\n",
        "print(\"\\nTransformed data (after applying log transformation):\")\n",
        "print(transformed_data[:5])\n",
        "\n",
        "# Plot the original data\n",
        "plt.figure(figsize=(10, 6))\n",
        "plt.subplot(1, 2, 1)\n",
        "plt.hist(data, bins=30, density=True, edgecolor='black')\n",
        "plt.title('Original Data Distribution')\n",
        "plt.xlabel('Value')\n",
        "plt.ylabel('Density')\n",
        "\n",
        "# Plot the transformed data\n",
        "plt.subplot(1, 2, 2)\n",
        "plt.hist(transformed_data, bins=30, density=True, edgecolor='black')\n",
        "plt.title('Transformed Data Distribution')\n",
        "plt.xlabel('Value')\n",
        "plt.ylabel('Density')\n",
        "\n",
        "plt.tight_layout()\n",
        "plt.show()"
      ],
      "metadata": {
        "colab": {
          "base_uri": "https://localhost:8080/",
          "height": 694
        },
        "id": "f-HZrxKsqWvo",
        "outputId": "761e5e47-12a3-46c9-f579-bc08aaa46109"
      },
      "execution_count": null,
      "outputs": [
        {
          "output_type": "stream",
          "name": "stdout",
          "text": [
            "Original data:\n",
            "[0.79587451 1.25593076 0.92322315 0.78720115 0.55104849]\n",
            "\n",
            "Transformed data (after applying log transformation):\n",
            "[-0.22831376  0.22787694 -0.07988431 -0.23927147 -0.59593247]\n"
          ]
        },
        {
          "output_type": "display_data",
          "data": {
            "text/plain": [
              "<Figure size 1000x600 with 2 Axes>"
            ],
            "image/png": "[encoded data removed]"
          },
          "metadata": {}
        }
      ]
    },
    {
      "cell_type": "markdown",
      "source": [
        "# Winsorization"
      ],
      "metadata": {
        "id": "Ea5v5tyISrxd"
      }
    },
    {
      "cell_type": "code",
      "source": [
        "import pandas as pd\n",
        "\n",
        "# Create a sample dataset with outliers\n",
        "data = pd.DataFrame({\n",
        "    'Feature': [100, 200, 300, 400, 500, 1000, 1500, 2000]  # Contains outliers at the upper end\n",
        "})\n",
        "\n",
        "# Calculate the 95th percentile of the feature\n",
        "percentile_95 = data['Feature'].quantile(0.95)\n",
        "\n",
        "# Apply Winsorization to cap extreme values at the 95th percentile\n",
        "winsorized_data = data.clip(upper=percentile_95, axis=1)\n",
        "\n",
        "# Display original and winsorized data\n",
        "print(\"Original data:\")\n",
        "print(data)\n",
        "print(\"\\nWinsorized data:\")\n",
        "print(winsorized_data)\n"
      ],
      "metadata": {
        "colab": {
          "base_uri": "https://localhost:8080/"
        },
        "id": "pYf9oRFKqlax",
        "outputId": "83c59558-b2db-4d32-a4dd-52749eeb91e1"
      },
      "execution_count": null,
      "outputs": [
        {
          "output_type": "stream",
          "name": "stdout",
          "text": [
            "Original data:\n",
            "   Feature\n",
            "0      100\n",
            "1      200\n",
            "2      300\n",
            "3      400\n",
            "4      500\n",
            "5     1000\n",
            "6     1500\n",
            "7     2000\n",
            "\n",
            "Winsorized data:\n",
            "   Feature\n",
            "0      100\n",
            "1      200\n",
            "2      300\n",
            "3      400\n",
            "4      500\n",
            "5     1000\n",
            "6     1500\n",
            "7     1825\n"
          ]
        }
      ]
    },
    {
      "cell_type": "markdown",
      "source": [
        "# binning"
      ],
      "metadata": {
        "id": "dCTgoIU2S02z"
      }
    },
    {
      "cell_type": "code",
      "source": [
        "import pandas as pd\n",
        "\n",
        "# Create a sample dataset with outliers\n",
        "data = pd.DataFrame({\n",
        "    'Age': [22, 25, 30, 33, 55, 75, 80, 85, 90]  # Contains outliers at the upper end\n",
        "})\n",
        "\n",
        "# Apply binning to group ages into intervals\n",
        "bins = [0, 30, 60, 100]\n",
        "labels = ['Young', 'Middle-aged', 'Senior']\n",
        "data['Age_group'] = pd.cut(data['Age'], bins=bins, labels=labels)\n",
        "\n",
        "# Display original data with age groups\n",
        "print(\"Original data with age groups:\")\n",
        "print(data)\n"
      ],
      "metadata": {
        "colab": {
          "base_uri": "https://localhost:8080/"
        },
        "id": "Tooa4a14rME3",
        "outputId": "b737fc79-7227-4866-f710-ba96633bca28"
      },
      "execution_count": null,
      "outputs": [
        {
          "output_type": "stream",
          "name": "stdout",
          "text": [
            "Original data with age groups:\n",
            "   Age    Age_group\n",
            "0   22        Young\n",
            "1   25        Young\n",
            "2   30        Young\n",
            "3   33  Middle-aged\n",
            "4   55  Middle-aged\n",
            "5   75       Senior\n",
            "6   80       Senior\n",
            "7   85       Senior\n",
            "8   90       Senior\n"
          ]
        }
      ]
    },
    {
      "cell_type": "code",
      "source": [
        "from sklearn.ensemble import RandomForestRegressor\n",
        "from sklearn.datasets import make_regression\n",
        "\n",
        "# Generate a sample dataset with outliers\n",
        "X, y = make_regression(n_samples=100, n_features=1, noise=5, bias=10, random_state=0)\n",
        "y[0] = 5000  # Introduce an outlier in the target variable\n",
        "\n",
        "# Train a Random Forest regressor\n",
        "model = RandomForestRegressor()\n",
        "model.fit(X, y)\n",
        "\n",
        "# Display model performance metrics\n",
        "print(\"Model R-squared score:\", model.score(X, y))\n"
      ],
      "metadata": {
        "colab": {
          "base_uri": "https://localhost:8080/"
        },
        "id": "yD2fBoZUrdeI",
        "outputId": "a1537ebd-79c1-4c76-df02-c120c2af6aad"
      },
      "execution_count": null,
      "outputs": [
        {
          "output_type": "stream",
          "name": "stdout",
          "text": [
            "Model R-squared score: 0.723608498876945\n"
          ]
        }
      ]
    },
    {
      "cell_type": "code",
      "source": [],
      "metadata": {
        "id": "Xx0BDsZKr1nA"
      },
      "execution_count": null,
      "outputs": []
    },
    {
      "cell_type": "markdown",
      "source": [
        "# imputation"
      ],
      "metadata": {
        "id": "U8pd87tcTHpc"
      }
    },
    {
      "cell_type": "code",
      "source": [
        "import pandas as pd\n",
        "import numpy as np\n",
        "from sklearn.impute import SimpleImputer\n",
        "\n",
        "# Create a sample dataset with missing values\n",
        "data = pd.DataFrame({\n",
        "    'A': [1, 2, np.nan, 4, 5],\n",
        "    'B': [np.nan, 7, 8, np.nan, 10],\n",
        "    'C': ['a', 'b', np.nan, 'd', 'e']\n",
        "})\n",
        "\n",
        "# Separate numeric and non-numeric columns\n",
        "numeric_columns = data.select_dtypes(include=np.number).columns\n",
        "non_numeric_columns = data.select_dtypes(exclude=np.number).columns\n",
        "\n",
        "# Perform imputation using mean strategy for numeric columns\n",
        "imputer_numeric = SimpleImputer(strategy='mean')\n",
        "imputed_numeric_data = pd.DataFrame(imputer_numeric.fit_transform(data[numeric_columns]), columns=numeric_columns)\n",
        "\n",
        "# Perform imputation using most frequent strategy for non-numeric columns\n",
        "imputer_non_numeric = SimpleImputer(strategy='most_frequent')\n",
        "imputed_non_numeric_data = pd.DataFrame(imputer_non_numeric.fit_transform(data[non_numeric_columns]), columns=non_numeric_columns)\n",
        "\n",
        "# Concatenate imputed numeric and non-numeric data\n",
        "imputed_data = pd.concat([imputed_numeric_data, imputed_non_numeric_data], axis=1)\n",
        "\n",
        "# Display the original and imputed data\n",
        "print(\"Original data:\")\n",
        "print(data)\n",
        "print(\"\\nImputed data:\")\n",
        "print(imputed_data)\n"
      ],
      "metadata": {
        "colab": {
          "base_uri": "https://localhost:8080/"
        },
        "id": "cla8XtPLr3RI",
        "outputId": "6411274a-3e94-4476-ee4c-62952d33f266"
      },
      "execution_count": null,
      "outputs": [
        {
          "output_type": "stream",
          "name": "stdout",
          "text": [
            "Original data:\n",
            "     A     B    C\n",
            "0  1.0   NaN    a\n",
            "1  2.0   7.0    b\n",
            "2  NaN   8.0  NaN\n",
            "3  4.0   NaN    d\n",
            "4  5.0  10.0    e\n",
            "\n",
            "Imputed data:\n",
            "     A          B  C\n",
            "0  1.0   8.333333  a\n",
            "1  2.0   7.000000  b\n",
            "2  3.0   8.000000  a\n",
            "3  4.0   8.333333  d\n",
            "4  5.0  10.000000  e\n"
          ]
        }
      ]
    },
    {
      "cell_type": "code",
      "source": [
        "# Delete rows with missing values\n",
        "data_without_missing_rows = data.dropna()\n",
        "\n",
        "# Delete columns with missing values\n",
        "data_without_missing_columns = data.dropna(axis=1)\n",
        "\n",
        "# Display the original data and data after deletion\n",
        "print(\"Original data:\")\n",
        "print(data)\n",
        "print(\"\\nData after deletion of rows with missing values:\")\n",
        "print(data_without_missing_rows)\n",
        "print(\"\\nData after deletion of columns with missing values:\")\n",
        "print(data_without_missing_columns)\n"
      ],
      "metadata": {
        "colab": {
          "base_uri": "https://localhost:8080/"
        },
        "id": "G6I3jSggr3tm",
        "outputId": "ec7b78f3-2a0a-49dd-cc29-0afa676ca1fa"
      },
      "execution_count": null,
      "outputs": [
        {
          "output_type": "stream",
          "name": "stdout",
          "text": [
            "Original data:\n",
            "     A     B    C\n",
            "0  1.0   NaN    a\n",
            "1  2.0   7.0    b\n",
            "2  NaN   8.0  NaN\n",
            "3  4.0   NaN    d\n",
            "4  5.0  10.0    e\n",
            "\n",
            "Data after deletion of rows with missing values:\n",
            "     A     B  C\n",
            "1  2.0   7.0  b\n",
            "4  5.0  10.0  e\n",
            "\n",
            "Data after deletion of columns with missing values:\n",
            "Empty DataFrame\n",
            "Columns: []\n",
            "Index: [0, 1, 2, 3, 4]\n"
          ]
        }
      ]
    },
    {
      "cell_type": "code",
      "source": [
        "import pandas as pd\n",
        "import numpy as np\n",
        "from sklearn.impute import KNNImputer\n",
        "from sklearn.preprocessing import OrdinalEncoder\n",
        "\n",
        "# Create a sample dataset with missing values\n",
        "data = pd.DataFrame({\n",
        "    'A': [1, 2, np.nan, 4, 5],\n",
        "    'B': [np.nan, 7, 8, np.nan, 10],\n",
        "    'C': ['a', 'b', np.nan, 'd', 'e']\n",
        "})\n",
        "\n",
        "# Encode categorical variables\n",
        "encoder = OrdinalEncoder()\n",
        "data_encoded = pd.DataFrame(encoder.fit_transform(data), columns=data.columns)\n",
        "print(\"data_encoded:\")\n",
        "print(data_encoded)\n",
        "\n",
        "# Perform KNN imputation\n",
        "imputer = KNNImputer(n_neighbors=2)\n",
        "imputed_data_encoded = imputer.fit_transform(data_encoded)\n",
        "print(\"imputed_data_encoded:\")\n",
        "print(imputed_data_encoded)\n",
        "\n",
        "\n",
        "# Decode the imputed data\n",
        "imputed_data = pd.DataFrame(encoder.inverse_transform(imputed_data_encoded), columns=data.columns)\n",
        "\n",
        "# Display the original and imputed data\n",
        "print(\"Original data:\")\n",
        "print(data)\n",
        "print(\"\\nImputed data using KNN imputation:\")\n",
        "print(imputed_data)\n"
      ],
      "metadata": {
        "colab": {
          "base_uri": "https://localhost:8080/"
        },
        "id": "kUHOAmFur_yt",
        "outputId": "4d028500-4f6f-4d60-ef66-5b442f30afeb"
      },
      "execution_count": null,
      "outputs": [
        {
          "output_type": "stream",
          "name": "stdout",
          "text": [
            "data_encoded:\n",
            "     A    B    C\n",
            "0  0.0  NaN  0.0\n",
            "1  1.0  0.0  1.0\n",
            "2  NaN  1.0  NaN\n",
            "3  2.0  NaN  2.0\n",
            "4  3.0  2.0  3.0\n",
            "imputed_data_encoded:\n",
            "[[0. 1. 0.]\n",
            " [1. 0. 1.]\n",
            " [2. 1. 2.]\n",
            " [2. 1. 2.]\n",
            " [3. 2. 3.]]\n",
            "Original data:\n",
            "     A     B    C\n",
            "0  1.0   NaN    a\n",
            "1  2.0   7.0    b\n",
            "2  NaN   8.0  NaN\n",
            "3  4.0   NaN    d\n",
            "4  5.0  10.0    e\n",
            "\n",
            "Imputed data using KNN imputation:\n",
            "     A     B  C\n",
            "0  1.0   8.0  a\n",
            "1  2.0   7.0  b\n",
            "2  4.0   8.0  d\n",
            "3  4.0   8.0  d\n",
            "4  5.0  10.0  e\n"
          ]
        }
      ]
    },
    {
      "cell_type": "markdown",
      "source": [
        "# handling wrong data"
      ],
      "metadata": {
        "id": "gqttOoKuTXWG"
      }
    },
    {
      "cell_type": "code",
      "source": [
        "import pandas as pd\n",
        "\n",
        "# Create a sample dataset with potential wrong data entries\n",
        "data = pd.DataFrame({\n",
        "    'Age': [25, 30, 150, 33, 55, 75, 80, 85, 90]  # Contains unrealistic age values\n",
        "})\n",
        "\n",
        "# Define data validation rule for age (age should be between 0 and 120)\n",
        "def validate_age(age):\n",
        "    if age < 0 or age > 120:\n",
        "        return np.nan  # Replace invalid age with NaN\n",
        "    else:\n",
        "        return age\n",
        "\n",
        "# Apply data validation rule to correct wrong data entries\n",
        "data['Age'] = data['Age'].apply(validate_age)\n",
        "\n",
        "# Display the corrected data\n",
        "print(\"Corrected data:\")\n",
        "print(data)\n"
      ],
      "metadata": {
        "colab": {
          "base_uri": "https://localhost:8080/"
        },
        "id": "Zgo3CvE0sI-y",
        "outputId": "ed61634f-4b85-4fa9-8d6c-9c321834ec8e"
      },
      "execution_count": null,
      "outputs": [
        {
          "output_type": "stream",
          "name": "stdout",
          "text": [
            "Corrected data:\n",
            "    Age\n",
            "0  25.0\n",
            "1  30.0\n",
            "2   NaN\n",
            "3  33.0\n",
            "4  55.0\n",
            "5  75.0\n",
            "6  80.0\n",
            "7  85.0\n",
            "8  90.0\n"
          ]
        }
      ]
    },
    {
      "cell_type": "code",
      "source": [
        "# Manually inspecting and correcting wrong data entries\n",
        "data.loc[data['Age'] > 120, 'Age'] = np.nan  # Replace ages greater than 120 with NaN\n",
        "\n",
        "# Display the corrected data\n",
        "print(\"Corrected data:\")\n",
        "print(data)\n",
        "\n"
      ],
      "metadata": {
        "colab": {
          "base_uri": "https://localhost:8080/"
        },
        "id": "ddmcoB-Ftt9G",
        "outputId": "7c9706f9-aeab-44ba-80ab-9033dc8ab82d"
      },
      "execution_count": null,
      "outputs": [
        {
          "output_type": "stream",
          "name": "stdout",
          "text": [
            "Corrected data:\n",
            "    Age\n",
            "0  25.0\n",
            "1  30.0\n",
            "2   NaN\n",
            "3  33.0\n",
            "4  55.0\n",
            "5  75.0\n",
            "6  80.0\n",
            "7  85.0\n",
            "8  90.0\n"
          ]
        }
      ]
    },
    {
      "cell_type": "markdown",
      "source": [
        "# Isolation Forest for outlier detection"
      ],
      "metadata": {
        "id": "nAtTQanrTkLj"
      }
    },
    {
      "cell_type": "code",
      "source": [
        "from sklearn.ensemble import IsolationForest\n",
        "\n",
        "# Remove rows with missing values\n",
        "data_cleaned = data.dropna()\n",
        "\n",
        "# Apply Isolation Forest for outlier detection\n",
        "clf = IsolationForest(contamination=0.1)  # Assuming 10% of data are outliers\n",
        "outliers = clf.fit_predict(data_cleaned[['Age']])\n",
        "data_cleaned['Outlier'] = outliers\n",
        "\n",
        "# Filter out non-outliers\n",
        "data_filtered = data_cleaned[data_cleaned['Outlier'] == 1].drop(columns=['Outlier'])\n",
        "\n",
        "# Display the cleaned data\n",
        "print(\"Cleaned data after removing outliers:\")\n",
        "print(data_filtered)\n"
      ],
      "metadata": {
        "colab": {
          "base_uri": "https://localhost:8080/"
        },
        "id": "_TmNrbjhutdN",
        "outputId": "086f279a-4475-4ba5-e221-2b6cb21046d2"
      },
      "execution_count": null,
      "outputs": [
        {
          "output_type": "stream",
          "name": "stdout",
          "text": [
            "Cleaned data after removing outliers:\n",
            "    Age\n",
            "0  25.0\n",
            "1  30.0\n",
            "3  33.0\n",
            "5  75.0\n",
            "6  80.0\n",
            "7  85.0\n",
            "8  90.0\n"
          ]
        },
        {
          "output_type": "stream",
          "name": "stderr",
          "text": [
            "/usr/local/lib/python3.10/dist-packages/sklearn/base.py:439: UserWarning: X does not have valid feature names, but IsolationForest was fitted with feature names\n",
            "  warnings.warn(\n",
            "<ipython-input-21-f4f48a873aec>:9: SettingWithCopyWarning: \n",
            "A value is trying to be set on a copy of a slice from a DataFrame.\n",
            "Try using .loc[row_indexer,col_indexer] = value instead\n",
            "\n",
            "See the caveats in the documentation: https://pandas.pydata.org/pandas-docs/stable/user_guide/indexing.html#returning-a-view-versus-a-copy\n",
            "  data_cleaned['Outlier'] = outliers\n"
          ]
        }
      ]
    },
    {
      "cell_type": "markdown",
      "source": [
        "# handling imbalanced dataset"
      ],
      "metadata": {
        "id": "ijVgUa_DTpLN"
      }
    },
    {
      "cell_type": "code",
      "source": [
        "import pandas as pd\n",
        "from sklearn.datasets import make_classification\n",
        "from imblearn.under_sampling import RandomUnderSampler\n",
        "\n",
        "# Create imbalanced dataset\n",
        "X, y = make_classification(n_classes=2, class_sep=2, weights=[0.1, 0.9], n_informative=3, n_redundant=1, flip_y=0, n_features=20, n_clusters_per_class=1, n_samples=1000, random_state=10)\n",
        "\n",
        "# Random undersampling\n",
        "rus = RandomUnderSampler(random_state=42)\n",
        "X_resampled, y_resampled = rus.fit_resample(X, y)\n",
        "\n",
        "# Display class distribution before and after undersampling\n",
        "print(\"Class distribution before undersampling:\")\n",
        "print(pd.Series(y).value_counts())\n",
        "print(\"\\nClass distribution after undersampling:\")\n",
        "print(pd.Series(y_resampled).value_counts())\n"
      ],
      "metadata": {
        "colab": {
          "base_uri": "https://localhost:8080/"
        },
        "id": "kUgwTZJVvhvk",
        "outputId": "fb8f85d0-ee26-4b29-eea5-c757b30751dc"
      },
      "execution_count": null,
      "outputs": [
        {
          "output_type": "stream",
          "name": "stdout",
          "text": [
            "Class distribution before undersampling:\n",
            "1    900\n",
            "0    100\n",
            "dtype: int64\n",
            "\n",
            "Class distribution after undersampling:\n",
            "0    100\n",
            "1    100\n",
            "dtype: int64\n"
          ]
        }
      ]
    },
    {
      "cell_type": "code",
      "source": [
        "import pandas as pd\n",
        "from sklearn.datasets import make_classification\n",
        "from imblearn.over_sampling import RandomOverSampler\n",
        "\n",
        "# Create imbalanced dataset\n",
        "X, y = make_classification(n_classes=2, class_sep=2, weights=[0.1, 0.9], n_informative=3, n_redundant=1, flip_y=0, n_features=20, n_clusters_per_class=1, n_samples=1000, random_state=10)\n",
        "\n",
        "# Random oversampling\n",
        "ros = RandomOverSampler(random_state=42)\n",
        "X_resampled, y_resampled = ros.fit_resample(X, y)\n",
        "\n",
        "# Display class distribution before and after oversampling\n",
        "print(\"Class distribution before oversampling:\")\n",
        "print(pd.Series(y).value_counts())\n",
        "print(\"\\nClass distribution after oversampling:\")\n",
        "print(pd.Series(y_resampled).value_counts())\n"
      ],
      "metadata": {
        "colab": {
          "base_uri": "https://localhost:8080/"
        },
        "id": "SYaY4VzuviSv",
        "outputId": "35685286-fe70-4810-ec6d-1eab56b7c869"
      },
      "execution_count": null,
      "outputs": [
        {
          "output_type": "stream",
          "name": "stdout",
          "text": [
            "Class distribution before oversampling:\n",
            "1    900\n",
            "0    100\n",
            "dtype: int64\n",
            "\n",
            "Class distribution after oversampling:\n",
            "0    900\n",
            "1    900\n",
            "dtype: int64\n"
          ]
        }
      ]
    },
    {
      "cell_type": "code",
      "source": [
        "import pandas as pd\n",
        "from sklearn.datasets import make_classification\n",
        "from imblearn.over_sampling import SMOTE\n",
        "\n",
        "# Create imbalanced dataset\n",
        "X, y = make_classification(n_classes=2, class_sep=2, weights=[0.1, 0.9], n_informative=3, n_redundant=1, flip_y=0, n_features=20, n_clusters_per_class=1, n_samples=1000, random_state=10)\n",
        "\n",
        "# SMOTE\n",
        "smote = SMOTE(random_state=42)\n",
        "X_resampled, y_resampled = smote.fit_resample(X, y)\n",
        "\n",
        "# Display class distribution before and after SMOTE\n",
        "print(\"Class distribution before SMOTE:\")\n",
        "print(pd.Series(y).value_counts())\n",
        "print(\"\\nClass distribution after SMOTE:\")\n",
        "print(pd.Series(y_resampled).value_counts())\n"
      ],
      "metadata": {
        "colab": {
          "base_uri": "https://localhost:8080/"
        },
        "id": "PEHHBDq6vogl",
        "outputId": "1ae62751-392b-4ff7-9b1b-54073967dfa3"
      },
      "execution_count": null,
      "outputs": [
        {
          "output_type": "stream",
          "name": "stdout",
          "text": [
            "Class distribution before SMOTE:\n",
            "1    900\n",
            "0    100\n",
            "dtype: int64\n",
            "\n",
            "Class distribution after SMOTE:\n",
            "0    900\n",
            "1    900\n",
            "dtype: int64\n"
          ]
        }
      ]
    },
    {
      "cell_type": "code",
      "source": [
        "import pandas as pd\n",
        "from sklearn.datasets import make_classification\n",
        "from sklearn.model_selection import train_test_split\n",
        "from sklearn.linear_model import LogisticRegression\n",
        "\n",
        "# Create imbalanced dataset\n",
        "X, y = make_classification(n_classes=2, class_sep=2, weights=[0.1, 0.9], n_informative=3, n_redundant=1, flip_y=0, n_features=20, n_clusters_per_class=1, n_samples=1000, random_state=10)\n",
        "\n",
        "# Split data into train and test sets\n",
        "X_train, X_test, y_train, y_test = train_test_split(X, y, test_size=0.2, random_state=42)\n",
        "\n",
        "# Calculate class weights\n",
        "class_weights = {0: len(y_train) / (2 * np.bincount(y_train)[0]), 1: len(y_train) / (2 * np.bincount(y_train)[1])}\n",
        "\n",
        "# Train logistic regression model with class weights\n",
        "model = LogisticRegression(class_weight=class_weights)\n",
        "model.fit(X_train, y_train)\n",
        "\n",
        "# Evaluate model\n",
        "accuracy = model.score(X_test, y_test)\n",
        "print(\"Model accuracy:\", accuracy)\n"
      ],
      "metadata": {
        "colab": {
          "base_uri": "https://localhost:8080/"
        },
        "id": "aKGaWL3uvtP-",
        "outputId": "38b61fa7-36af-4469-ffb4-e71057ffddca"
      },
      "execution_count": null,
      "outputs": [
        {
          "output_type": "stream",
          "name": "stdout",
          "text": [
            "Model accuracy: 0.99\n"
          ]
        }
      ]
    },
    {
      "cell_type": "code",
      "source": [
        "import numpy as np\n",
        "from sklearn.datasets import make_classification\n",
        "from sklearn.model_selection import train_test_split\n",
        "from sklearn.linear_model import LogisticRegression\n",
        "\n",
        "# Create imbalanced dataset\n",
        "# We use the make_classification function from sklearn.datasets module to generate an imbalanced dataset.\n",
        "# The weights parameter controls the class imbalance, where the minority class (class 0) has a weight of 0.1\n",
        "# and the majority class (class 1) has a weight of 0.9.\n",
        "X, y = make_classification(n_classes=2, class_sep=2, weights=[0.1, 0.9],\n",
        "                           n_informative=3, n_redundant=1, flip_y=0,\n",
        "                           n_features=20, n_clusters_per_class=1,\n",
        "                           n_samples=1000, random_state=10)\n",
        "\n",
        "# Split data into train and test sets\n",
        "# We split the dataset into training and testing sets using the train_test_split function from sklearn.model_selection module.\n",
        "# 80% of the data is used for training and 20% for testing.\n",
        "X_train, X_test, y_train, y_test = train_test_split(X, y, test_size=0.2, random_state=42)\n",
        "\n",
        "# Calculate class weights\n",
        "# We calculate the class weights using a dictionary where the keys represent the class labels (0 and 1)\n",
        "# and the values represent the corresponding weights.\n",
        "# The weights are calculated based on the class frequencies in the training set.\n",
        "class_weights = {0: len(y_train) / (2 * np.bincount(y_train)[0]),\n",
        "                 1: len(y_train) / (2 * np.bincount(y_train)[1])}\n",
        "\n",
        "# Train logistic regression model with class weights\n",
        "# We create a logistic regression model using the LogisticRegression class from sklearn.linear_model module.\n",
        "# The class_weight parameter is set to the calculated class weights to assign higher weight to the minority class.\n",
        "# The model is then trained on the training data.\n",
        "model = LogisticRegression(class_weight=class_weights)\n",
        "model.fit(X_train, y_train)\n",
        "\n",
        "# Evaluate model\n",
        "# Finally, we evaluate the trained model on the test data and compute its accuracy.\n",
        "# The accuracy represents the proportion of correctly predicted labels in the test set.\n",
        "accuracy = model.score(X_test, y_test)\n",
        "print(\"Model accuracy:\", accuracy)\n"
      ],
      "metadata": {
        "colab": {
          "base_uri": "https://localhost:8080/"
        },
        "id": "8joZojH3xJHy",
        "outputId": "d2180832-9c64-42d0-9cb6-1f68f43b846b"
      },
      "execution_count": null,
      "outputs": [
        {
          "output_type": "stream",
          "name": "stdout",
          "text": [
            "Model accuracy: 0.99\n"
          ]
        }
      ]
    },
    {
      "cell_type": "code",
      "source": [
        "import pandas as pd\n",
        "from sklearn.model_selection import train_test_split\n",
        "\n",
        "# Synthetic dataset\n",
        "data = pd.DataFrame({\n",
        "    'numerical_feature_1': np.random.normal(loc=0, scale=1, size=1000),\n",
        "    'numerical_feature_2': np.random.normal(loc=10, scale=2, size=1000),\n",
        "    'categorical_feature_1': np.random.choice(['A', 'B', 'C'], size=1000),\n",
        "    'categorical_feature_2': np.random.choice(['X', 'Y', 'Z'], size=1000),\n",
        "    'target': np.random.choice([0, 1], size=1000)\n",
        "})\n",
        "\n",
        "# Splitting data into features and target variable\n",
        "X = data.drop('target', axis=1)\n",
        "y = data['target']\n",
        "\n",
        "# Split data into train and test sets\n",
        "X_train, X_test, y_train, y_test = train_test_split(X, y, test_size=0.2, random_state=42)\n",
        "\n",
        "# Display train and test sets\n",
        "print(\"Train set:\")\n",
        "print(X_train)\n",
        "print(\"Test set:\")\n",
        "print(X_test)\n"
      ],
      "metadata": {
        "colab": {
          "base_uri": "https://localhost:8080/"
        },
        "id": "DNWbi7OpymAr",
        "outputId": "33d0b1db-fe7a-4f96-87e6-4883cfe8e265"
      },
      "execution_count": null,
      "outputs": [
        {
          "output_type": "stream",
          "name": "stdout",
          "text": [
            "Train set:\n",
            "     numerical_feature_1  numerical_feature_2 categorical_feature_1  \\\n",
            "29              1.169590             9.845558                     C   \n",
            "535             0.214713            10.924967                     C   \n",
            "695             1.218971            10.159603                     A   \n",
            "557            -1.630473             7.441939                     C   \n",
            "836             0.779349            10.553163                     A   \n",
            "..                   ...                  ...                   ...   \n",
            "106             0.790372             9.633699                     B   \n",
            "270             0.597228            10.746697                     B   \n",
            "860             0.638660            10.419068                     B   \n",
            "435            -0.062004            10.975121                     A   \n",
            "102            -1.256507            11.022999                     C   \n",
            "\n",
            "    categorical_feature_2  \n",
            "29                      Y  \n",
            "535                     Y  \n",
            "695                     Y  \n",
            "557                     X  \n",
            "836                     Z  \n",
            "..                    ...  \n",
            "106                     Z  \n",
            "270                     X  \n",
            "860                     X  \n",
            "435                     X  \n",
            "102                     Z  \n",
            "\n",
            "[800 rows x 4 columns]\n",
            "Test set:\n",
            "     numerical_feature_1  numerical_feature_2 categorical_feature_1  \\\n",
            "521             0.757922             8.310117                     C   \n",
            "737            -0.411493            13.312417                     A   \n",
            "740            -1.731201            12.140730                     B   \n",
            "660            -0.288549            10.920543                     C   \n",
            "411            -1.004055            10.318925                     B   \n",
            "..                   ...                  ...                   ...   \n",
            "408             0.183835             7.222915                     A   \n",
            "332             1.962587             8.755930                     B   \n",
            "208            -1.876553             8.352129                     C   \n",
            "613            -1.335482            11.185135                     B   \n",
            "78              1.072978             9.817201                     C   \n",
            "\n",
            "    categorical_feature_2  \n",
            "521                     Z  \n",
            "737                     Y  \n",
            "740                     Z  \n",
            "660                     Z  \n",
            "411                     X  \n",
            "..                    ...  \n",
            "408                     Y  \n",
            "332                     Z  \n",
            "208                     Z  \n",
            "613                     X  \n",
            "78                      Z  \n",
            "\n",
            "[200 rows x 4 columns]\n"
          ]
        }
      ]
    },
    {
      "cell_type": "markdown",
      "source": [
        "# K-Fold Cross-Validation"
      ],
      "metadata": {
        "id": "w-quJmjbTzrI"
      }
    },
    {
      "cell_type": "code",
      "source": [
        "from sklearn.model_selection import KFold\n",
        "import numpy as np\n",
        "\n",
        "# Synthetic dataset\n",
        "data = pd.DataFrame({\n",
        "    'numerical_feature_1': np.random.normal(loc=0, scale=1, size=1000),\n",
        "    'numerical_feature_2': np.random.normal(loc=10, scale=2, size=1000),\n",
        "    'categorical_feature_1': np.random.choice(['A', 'B', 'C'], size=1000),\n",
        "    'categorical_feature_2': np.random.choice(['X', 'Y', 'Z'], size=1000),\n",
        "    'target': np.random.choice([0, 1], size=1000)\n",
        "})\n",
        "\n",
        "# Splitting data into features and target variable\n",
        "X = data.drop('target', axis=1)\n",
        "y = data['target']\n",
        "\n",
        "# Perform K-Fold Cross-Validation\n",
        "kfold = KFold(n_splits=5, shuffle=True, random_state=42)\n",
        "for fold, (train_index, test_index) in enumerate(kfold.split(X)):\n",
        "    X_train, X_test = X.iloc[train_index], X.iloc[test_index]\n",
        "    y_train, y_test = y.iloc[train_index], y.iloc[test_index]\n",
        "    print(f\"Fold {fold+1}: Train set size: {len(X_train)}, Test set size: {len(X_test)}\")\n",
        "\n"
      ],
      "metadata": {
        "colab": {
          "base_uri": "https://localhost:8080/"
        },
        "id": "l-9B-eP1HeG4",
        "outputId": "3ab48c28-a05a-4a88-bbe0-3794cce826c2"
      },
      "execution_count": null,
      "outputs": [
        {
          "output_type": "stream",
          "name": "stdout",
          "text": [
            "Fold 1: Train set size: 800, Test set size: 200\n",
            "Fold 2: Train set size: 800, Test set size: 200\n",
            "Fold 3: Train set size: 800, Test set size: 200\n",
            "Fold 4: Train set size: 800, Test set size: 200\n",
            "Fold 5: Train set size: 800, Test set size: 200\n"
          ]
        }
      ]
    },
    {
      "cell_type": "markdown",
      "source": [
        "# Stratified split data"
      ],
      "metadata": {
        "id": "I_kppDDOT3w1"
      }
    },
    {
      "cell_type": "code",
      "source": [
        "import pandas as pd\n",
        "from sklearn.model_selection import train_test_split\n",
        "\n",
        "# Synthetic dataset\n",
        "data = pd.DataFrame({\n",
        "    'numerical_feature_1': np.random.normal(loc=0, scale=1, size=1000),\n",
        "    'numerical_feature_2': np.random.normal(loc=10, scale=2, size=1000),\n",
        "    'categorical_feature_1': np.random.choice(['A', 'B', 'C'], size=1000),\n",
        "    'categorical_feature_2': np.random.choice(['X', 'Y', 'Z'], size=1000),\n",
        "    'target': np.random.choice([0, 1], size=1000)\n",
        "})\n",
        "\n",
        "# Splitting data into features and target variable\n",
        "X = data.drop('target', axis=1)\n",
        "y = data['target']\n",
        "\n",
        "# Stratified split data into train and test sets\n",
        "X_train, X_test, y_train, y_test = train_test_split(X, y, test_size=0.2, random_state=42, stratify=y)\n",
        "\n",
        "# Display train and test sets\n",
        "print(\"Train set:\")\n",
        "print(X_train)\n",
        "print(\"Test set:\")\n",
        "print(X_test)\n"
      ],
      "metadata": {
        "colab": {
          "base_uri": "https://localhost:8080/"
        },
        "id": "xxzwzqkxHjPf",
        "outputId": "1b38ceca-793a-4739-ee2f-3c1dfef7e17e"
      },
      "execution_count": null,
      "outputs": [
        {
          "output_type": "stream",
          "name": "stdout",
          "text": [
            "Train set:\n",
            "     numerical_feature_1  numerical_feature_2 categorical_feature_1  \\\n",
            "320            -0.705831            10.279930                     C   \n",
            "607            -0.746759            12.905306                     B   \n",
            "594            -1.698301             8.278597                     A   \n",
            "254             2.001018             7.362716                     A   \n",
            "231             0.668616            11.802924                     C   \n",
            "..                   ...                  ...                   ...   \n",
            "22             -0.371290             9.329541                     C   \n",
            "51              0.241228             8.997170                     C   \n",
            "202             0.504578             8.056173                     C   \n",
            "177            -1.048643             8.597615                     B   \n",
            "517            -1.930939             8.692684                     B   \n",
            "\n",
            "    categorical_feature_2  \n",
            "320                     X  \n",
            "607                     X  \n",
            "594                     X  \n",
            "254                     Z  \n",
            "231                     X  \n",
            "..                    ...  \n",
            "22                      Z  \n",
            "51                      X  \n",
            "202                     X  \n",
            "177                     Y  \n",
            "517                     Z  \n",
            "\n",
            "[800 rows x 4 columns]\n",
            "Test set:\n",
            "     numerical_feature_1  numerical_feature_2 categorical_feature_1  \\\n",
            "69              0.703781             6.198291                     B   \n",
            "343             0.182096             9.286486                     B   \n",
            "194            -0.925227             9.949497                     C   \n",
            "540             0.289907             9.366524                     C   \n",
            "67             -0.621372            11.377127                     A   \n",
            "..                   ...                  ...                   ...   \n",
            "45              0.099616            10.229102                     B   \n",
            "191            -0.078665             8.794131                     C   \n",
            "119             0.737176            11.303575                     A   \n",
            "974             1.396156             8.279059                     A   \n",
            "114            -1.683045            11.597171                     A   \n",
            "\n",
            "    categorical_feature_2  \n",
            "69                      Z  \n",
            "343                     X  \n",
            "194                     Z  \n",
            "540                     X  \n",
            "67                      Z  \n",
            "..                    ...  \n",
            "45                      X  \n",
            "191                     Z  \n",
            "119                     X  \n",
            "974                     Z  \n",
            "114                     Z  \n",
            "\n",
            "[200 rows x 4 columns]\n"
          ]
        }
      ]
    },
    {
      "cell_type": "code",
      "source": [
        "from sklearn.datasets import load_breast_cancer\n",
        "from sklearn.feature_selection import SelectKBest, f_classif\n",
        "from sklearn.linear_model import LogisticRegression\n",
        "from sklearn.model_selection import train_test_split\n",
        "from sklearn.metrics import accuracy_score\n",
        "\n",
        "# Load the breast cancer dataset\n",
        "breast_cancer_data = load_breast_cancer()\n",
        "X, y = breast_cancer_data.data, breast_cancer_data.target\n",
        "\n",
        "# Select the top 10 features using the SelectKBest method\n",
        "selector = SelectKBest(score_func=f_classif, k=10)\n",
        "X_selected = selector.fit_transform(X, y)\n",
        "\n",
        "# Split data into training and testing sets\n",
        "X_train, X_test, y_train, y_test = train_test_split(X_selected, y, test_size=0.2, random_state=42)\n",
        "\n",
        "# Train a logistic regression model on the selected features\n",
        "logistic_model = LogisticRegression()\n",
        "logistic_model.fit(X_train, y_train)\n",
        "\n",
        "# Evaluate the model\n",
        "y_pred = logistic_model.predict(X_test)\n",
        "accuracy = accuracy_score(y_test, y_pred)\n",
        "print(\"Accuracy of the logistic regression model:\", accuracy)\n"
      ],
      "metadata": {
        "colab": {
          "base_uri": "https://localhost:8080/"
        },
        "id": "poM9UMGPMGcA",
        "outputId": "8fffea71-e32d-44cc-c12b-40052121bbc8"
      },
      "execution_count": null,
      "outputs": [
        {
          "output_type": "stream",
          "name": "stdout",
          "text": [
            "Accuracy of the logistic regression model: 0.9912280701754386\n"
          ]
        }
      ]
    },
    {
      "cell_type": "markdown",
      "source": [
        "# feature_selection"
      ],
      "metadata": {
        "id": "evh0DUYTUHMr"
      }
    },
    {
      "cell_type": "code",
      "source": [
        "import pandas as pd\n",
        "import numpy as np\n",
        "from sklearn.feature_selection import SelectKBest, f_classif\n",
        "from sklearn.ensemble import RandomForestClassifier\n",
        "from sklearn.model_selection import train_test_split\n",
        "from sklearn.metrics import accuracy_score\n",
        "\n",
        "# Assume sample dataset\n",
        "data = pd.DataFrame({\n",
        "    'numerical_feature_1': np.random.rand(100),\n",
        "    'numerical_feature_2': np.random.rand(100),\n",
        "    'categorical_feature_1': np.random.choice(['A', 'B', 'C'], size=100),\n",
        "    'categorical_feature_2': np.random.choice(['X', 'Y', 'Z'], size=100),\n",
        "    'target': np.random.choice([0, 1], size=100)\n",
        "})\n",
        "\n",
        "# Separate features and target variable\n",
        "X = data.drop('target', axis=1)\n",
        "y = data['target']\n",
        "\n",
        "# Split data into training and testing sets\n",
        "X_train, X_test, y_train, y_test = train_test_split(X, y, test_size=0.2, random_state=42)\n",
        "\n",
        "# 1. Missing Values Ratio\n",
        "# - Remove features with more than 50% missing values\n",
        "missing_ratio = data.isnull().mean()\n",
        "threshold = 0.5\n",
        "selected_features_missing_ratio = data.columns[missing_ratio < threshold]\n",
        "\n",
        "# 2. High Correlation Filter\n",
        "# - Remove one of two highly correlated features\n",
        "corr_matrix = data.select_dtypes(include=[np.number]).corr().abs()  # Select only numeric columns\n",
        "upper_triangle = corr_matrix.where(np.triu(np.ones(corr_matrix.shape), k=1).astype(bool))\n",
        "threshold = 0.8\n",
        "to_drop_correlation = [column for column in upper_triangle.columns if any(upper_triangle[column] > threshold)]\n",
        "selected_features_correlation = data.drop(to_drop_correlation, axis=1).columns\n",
        "\n",
        "# 3. Low Variance Filter\n",
        "# - Remove features with variance below 0.05\n",
        "numeric_data = data.select_dtypes(include=[np.number])  # Select only numeric columns\n",
        "variance = numeric_data.var()\n",
        "threshold = 0.05\n",
        "selected_features_variance = numeric_data.columns[variance >= threshold]\n",
        "\n",
        "\n",
        "# 5. Forward Feature Selection (Not implemented here, typically done manually or using libraries like mlxtend)\n",
        "# 6. Backward Feature Elimination (Not implemented here, typically done manually or using libraries like mlxtend)\n",
        "\n",
        "# Display selected features for each method\n",
        "print(\"Selected features using Missing Values Ratio:\", selected_features_missing_ratio)\n",
        "print(\"Selected features using High Correlation Filter:\", selected_features_correlation)\n",
        "print(\"Selected features using Low Variance Filter:\", selected_features_variance)\n"
      ],
      "metadata": {
        "colab": {
          "base_uri": "https://localhost:8080/"
        },
        "id": "GFDpQjM6Qhc_",
        "outputId": "fb7c35d4-ba8d-4ce0-9029-7eefe8730459"
      },
      "execution_count": null,
      "outputs": [
        {
          "output_type": "stream",
          "name": "stdout",
          "text": [
            "Selected features using Missing Values Ratio: Index(['numerical_feature_1', 'numerical_feature_2', 'categorical_feature_1',\n",
            "       'categorical_feature_2', 'target'],\n",
            "      dtype='object')\n",
            "Selected features using High Correlation Filter: Index(['numerical_feature_1', 'numerical_feature_2', 'categorical_feature_1',\n",
            "       'categorical_feature_2', 'target'],\n",
            "      dtype='object')\n",
            "Selected features using Low Variance Filter: Index(['numerical_feature_1', 'numerical_feature_2', 'target'], dtype='object')\n"
          ]
        }
      ]
    },
    {
      "cell_type": "code",
      "source": [
        "import pandas as pd\n",
        "import numpy as np\n",
        "from sklearn.feature_selection import SelectKBest, f_classif\n",
        "from sklearn.ensemble import RandomForestClassifier\n",
        "from sklearn.model_selection import train_test_split\n",
        "from sklearn.metrics import accuracy_score\n",
        "\n",
        "# Assume sample dataset\n",
        "data = pd.DataFrame({\n",
        "    'numerical_feature_1': np.random.rand(100),\n",
        "    'numerical_feature_2': np.random.rand(100),\n",
        "    'target': np.random.choice([0, 1], size=100)\n",
        "})\n",
        "\n",
        "# Separate features and target variable\n",
        "X = data.drop('target', axis=1)\n",
        "y = data['target']\n",
        "\n",
        "# Split data into training and testing sets\n",
        "X_train, X_test, y_train, y_test = train_test_split(X, y, test_size=0.2, random_state=42)\n",
        "\n",
        "# 4. Random Forest Feature Importance\n",
        "# - Select top 2 features based on feature importance scores from Random Forest\n",
        "rf_model = RandomForestClassifier()\n",
        "rf_model.fit(X_train, y_train)\n",
        "feature_importances = rf_model.feature_importances_\n",
        "n_top_features = 2\n",
        "top_feature_indices = feature_importances.argsort()[-n_top_features:][::-1]\n",
        "selected_features_rf = X.columns[top_feature_indices]\n",
        "\n",
        "# 5. Forward Feature Selection (Not implemented here, typically done manually or using libraries like mlxtend)\n",
        "# 6. Backward Feature Elimination (Not implemented here, typically done manually or using libraries like mlxtend)\n",
        "\n",
        "# Display selected features for each method\n",
        "\n",
        "print(\"Selected features using Random Forest Feature Importance:\", selected_features_rf)\n"
      ],
      "metadata": {
        "colab": {
          "base_uri": "https://localhost:8080/"
        },
        "id": "tR1bhnFvTO_M",
        "outputId": "769be0a7-0c48-4910-8270-4a9f0fe587e4"
      },
      "execution_count": null,
      "outputs": [
        {
          "output_type": "stream",
          "name": "stdout",
          "text": [
            "Selected features using Random Forest Feature Importance: Index(['numerical_feature_1', 'numerical_feature_2'], dtype='object')\n"
          ]
        }
      ]
    },
    {
      "cell_type": "code",
      "source": [
        "from sklearn.feature_selection import SelectKBest, f_classif\n",
        "from sklearn.ensemble import RandomForestClassifier\n",
        "from sklearn.model_selection import train_test_split\n",
        "from sklearn.metrics import accuracy_score\n",
        "from sklearn.preprocessing import OneHotEncoder\n",
        "\n",
        "# Function to evaluate model performance\n",
        "def evaluate_model(X_train, X_test, y_train, y_test):\n",
        "    # Train a random forest classifier\n",
        "    rf_model = RandomForestClassifier()\n",
        "    rf_model.fit(X_train, y_train)\n",
        "\n",
        "    # Predict on the test set\n",
        "    y_pred = rf_model.predict(X_test)\n",
        "\n",
        "    # Calculate accuracy\n",
        "    accuracy = accuracy_score(y_test, y_pred)\n",
        "\n",
        "    return accuracy\n",
        "\n",
        "# Assume sample dataset\n",
        "data = pd.DataFrame({\n",
        "    'numerical_feature_1': np.random.rand(100),\n",
        "    'numerical_feature_2': np.random.rand(100),\n",
        "    'categorical_feature_1': np.random.choice(['A', 'B', 'C'], size=100),\n",
        "    'categorical_feature_2': np.random.choice(['X', 'Y', 'Z'], size=100),\n",
        "    'target': np.random.choice([0, 1], size=100)\n",
        "})\n",
        "\n",
        "# Separate features and target variable\n",
        "X = data.drop('target', axis=1)\n",
        "y = data['target']\n",
        "\n",
        "# One-hot encode categorical features\n",
        "encoder = OneHotEncoder()\n",
        "X_encoded = encoder.fit_transform(X.select_dtypes(include=['object']))\n",
        "\n",
        "# Concatenate encoded features with numerical features\n",
        "X_encoded_df = pd.DataFrame(X_encoded.toarray(), columns=encoder.get_feature_names_out(X.select_dtypes(include=['object']).columns))\n",
        "X_numeric = pd.concat([X.select_dtypes(include=['float64']), X_encoded_df], axis=1)\n",
        "\n",
        "# Split data into training and testing sets\n",
        "X_train, X_test, y_train, y_test = train_test_split(X_numeric, y, test_size=0.2, random_state=42)\n",
        "\n",
        "# Forward Feature Selection\n",
        "selected_features_forward = []\n",
        "best_accuracy = 0.0\n",
        "\n",
        "for feature in X_numeric.columns:\n",
        "    # Add one feature at a time\n",
        "    selected_features_forward.append(feature)\n",
        "\n",
        "    # Evaluate model performance\n",
        "    X_train_selected = X_train[selected_features_forward]\n",
        "    X_test_selected = X_test[selected_features_forward]\n",
        "    accuracy = evaluate_model(X_train_selected, X_test_selected, y_train, y_test)\n",
        "\n",
        "    # Check if current set of features improves performance\n",
        "    if accuracy > best_accuracy:\n",
        "        best_accuracy = accuracy\n",
        "    else:\n",
        "        # Remove last added feature if it does not improve performance\n",
        "        selected_features_forward.pop()\n",
        "\n",
        "print(\"Selected features using Forward Feature Selection:\", selected_features_forward)\n",
        "\n",
        "# Backward Feature Elimination\n",
        "selected_features_backward = list(X_numeric.columns)\n",
        "best_accuracy = evaluate_model(X_train, X_test, y_train, y_test)\n",
        "\n",
        "for feature in X_numeric.columns:\n",
        "    # Remove one feature at a time\n",
        "    selected_features_backward.remove(feature)\n",
        "\n",
        "    # Evaluate model performance\n",
        "    X_train_selected = X_train[selected_features_backward]\n",
        "    X_test_selected = X_test[selected_features_backward]\n",
        "    accuracy = evaluate_model(X_train_selected, X_test_selected, y_train, y_test)\n",
        "\n",
        "    # Check if current set of features improves performance\n",
        "    if accuracy >= best_accuracy:\n",
        "        best_accuracy = accuracy\n",
        "    else:\n",
        "        # Re-add last removed feature if it does not improve performance\n",
        "        selected_features_backward.append(feature)\n",
        "\n",
        "print(\"Selected features using Backward Feature Elimination:\", selected_features_backward)\n"
      ],
      "metadata": {
        "colab": {
          "base_uri": "https://localhost:8080/"
        },
        "id": "uT_0iWAKUHzr",
        "outputId": "439be0f1-6822-4b54-f5c3-f271e2f91051"
      },
      "execution_count": null,
      "outputs": [
        {
          "output_type": "stream",
          "name": "stdout",
          "text": [
            "Selected features using Forward Feature Selection: ['numerical_feature_1']\n",
            "Selected features using Backward Feature Elimination: ['numerical_feature_1', 'numerical_feature_2', 'categorical_feature_1_A', 'categorical_feature_1_B', 'categorical_feature_2_X', 'categorical_feature_2_Z']\n"
          ]
        }
      ]
    },
    {
      "cell_type": "code",
      "source": [
        "import pandas as pd\n",
        "import numpy as np\n",
        "from sklearn.datasets import make_classification\n",
        "from sklearn.feature_selection import VarianceThreshold, SelectFromModel\n",
        "from sklearn.ensemble import RandomForestClassifier\n",
        "from sklearn.linear_model import LogisticRegression\n",
        "from sklearn.feature_selection import RFE, RFECV\n",
        "from sklearn.preprocessing import LabelEncoder\n",
        "\n",
        "# Generate a synthetic dataset with 15 features (10 numerical, 5 categorical)\n",
        "X, y = make_classification(n_samples=1000, n_features=15, n_informative=10, n_redundant=2, n_repeated=0, n_classes=2, random_state=42)\n",
        "X = pd.DataFrame(X, columns=[f'num_feat_{i}' for i in range(10)] + [f'cat_feat_{i}' for i in range(5)])\n",
        "\n",
        "# Convert categorical features to strings\n",
        "for col in X.columns[-5:]:\n",
        "    X[col] = X[col].astype('category').cat.codes.astype('str')\n",
        "\n",
        "# Split the dataset into numerical and categorical features\n",
        "num_cols = X.columns[:10]\n",
        "cat_cols = X.columns[10:]\n",
        "\n",
        "# Missing Values Ratio\n",
        "missing_ratios = X.isnull().mean()\n",
        "print(\"Missing Values Ratio:\")\n",
        "print(missing_ratios)\n",
        "\"\"\"\n",
        "What: Calculates the ratio of missing values for each feature.\n",
        "Why: To identify features with a high percentage of missing values, which may need to be imputed or removed.\n",
        "Where: Commonly used as a preprocessing step for feature selection and data cleaning.\n",
        "When: Early in the data science life cycle, during the data exploration and cleaning phase.\n",
        "How: Calculate the mean of the isnull() values for each feature, which gives the ratio of missing values.\n",
        "Other: Features with a high ratio of missing values may not be useful for modeling and could be considered for removal.\n",
        "\"\"\"\n",
        "\n",
        "# High Correlation Filter\n",
        "corr_matrix = X[num_cols].corr().abs()\n",
        "high_corr_cols = [col for col in corr_matrix.columns if any(corr_matrix[col] > 0.9)]\n",
        "print(\"\\nHighly Correlated Features:\")\n",
        "print(high_corr_cols)\n",
        "\"\"\"\n",
        "What: Identifies features that are highly correlated with each other.\n",
        "Why: To remove redundant features and prevent multicollinearity.\n",
        "Where: Commonly used as a preprocessing step for feature selection and dimensionality reduction.\n",
        "When: During the data exploration and preprocessing phase of the data science life cycle.\n",
        "How: Calculate the correlation matrix and identify features with a correlation coefficient greater than a threshold (e.g., 0.9).\n",
        "Other: Highly correlated features can be removed or combined to reduce redundancy and improve model performance.\n",
        "\"\"\"\n",
        "\n",
        "# Low Variance Filter\n",
        "selector = VarianceThreshold(threshold=0.01)\n",
        "X_filtered = selector.fit_transform(X[num_cols])\n",
        "low_var_cols = [col for col in num_cols if col not in X[num_cols].columns[selector.get_support()]]\n",
        "print(\"\\nLow Variance Features:\")\n",
        "print(low_var_cols)\n",
        "\"\"\"\n",
        "What: Removes features with low variance, which do not provide much information for the model.\n",
        "Why: To improve model performance and interpretability by removing uninformative features.\n",
        "Where: Commonly used as a preprocessing step for feature selection and dimensionality reduction.\n",
        "When: During the data exploration and preprocessing phase of the data science life cycle.\n",
        "How: Use the VarianceThreshold method from scikit-learn and specify a threshold value for the variance.\n",
        "Other: Features with low variance may not contribute significantly to the model and can be safely removed.\n",
        "\"\"\"\n",
        "\n",
        "# Random Forest\n",
        "rf = RandomForestClassifier(random_state=42)\n",
        "rf.fit(X, y)\n",
        "feature_importances = pd.Series(rf.feature_importances_, index=X.columns)\n",
        "print(\"\\nRandom Forest Feature Importances:\")\n",
        "print(feature_importances.sort_values(ascending=False))\n",
        "\"\"\"\n",
        "What: Calculates the feature importance scores using the Random Forest algorithm.\n",
        "Why: To identify the most important features for the Random Forest model.\n",
        "Where: Commonly used as a feature selection method in machine learning.\n",
        "When: During the feature selection and model building phase of the data science life cycle.\n",
        "How: Fit a Random Forest model to the data and extract the feature importance scores from the trained model.\n",
        "Other: Features with higher importance scores are considered more relevant for the model and can be selected for further analysis or modeling.\n",
        "\"\"\"\n",
        "\n",
        "# Forward Feature Selection\n",
        "logreg = LogisticRegression()\n",
        "rfe = RFE(estimator=logreg, n_features_to_select=5)\n",
        "rfe.fit(X, y)\n",
        "selected_features = X.columns[rfe.get_support()]\n",
        "print(\"\\nForward Feature Selection Selected Features:\")\n",
        "print(selected_features)\n",
        "\"\"\"\n",
        "What: Performs forward feature selection by iteratively adding features to a model and evaluating the performance.\n",
        "Why: To identify the most relevant subset of features for a specific model.\n",
        "Where: Commonly used as a feature selection method in machine learning.\n",
        "When: During the feature selection and model building phase of the data science life cycle.\n",
        "How: Use the Recursive Feature Elimination (RFE) method from scikit-learn and specify the number of features to select.\n",
        "Other: Forward feature selection can be computationally expensive, especially for datasets with a large number of features.\n",
        "\"\"\"\n",
        "\n",
        "# Backward Feature Elimination\n",
        "logreg = LogisticRegression()\n",
        "rfecv = RFECV(estimator=logreg, step=1, cv=5, scoring='accuracy')\n",
        "rfecv.fit(X, y)\n",
        "selected_features = X.columns[rfecv.get_support()]\n",
        "print(\"\\nBackward Feature Elimination Selected Features:\")\n",
        "print(selected_features)\n",
        "\"\"\"\n",
        "What: Performs backward feature elimination by iteratively removing features from a model and evaluating the performance.\n",
        "Why: To identify the most relevant subset of features for a specific model.\n",
        "Where: Commonly used as a feature selection method in machine learning.\n",
        "When: During the feature selection and model building phase of the data science life cycle.\n",
        "How: Use the Recursive Feature Elimination with Cross-Validation (RFECV) method from scikit-learn.\n",
        "Other: Backward feature elimination can be computationally expensive, especially for datasets with a large number of features.\n",
        "\"\"\"\n"
      ],
      "metadata": {
        "colab": {
          "base_uri": "https://localhost:8080/",
          "height": 1000
        },
        "id": "GAfNgJt6VUTI",
        "outputId": "3de2f0b3-1e9f-4f82-a495-b1fc0ccf9976"
      },
      "execution_count": null,
      "outputs": [
        {
          "output_type": "stream",
          "name": "stdout",
          "text": [
            "Missing Values Ratio:\n",
            "num_feat_0    0.0\n",
            "num_feat_1    0.0\n",
            "num_feat_2    0.0\n",
            "num_feat_3    0.0\n",
            "num_feat_4    0.0\n",
            "num_feat_5    0.0\n",
            "num_feat_6    0.0\n",
            "num_feat_7    0.0\n",
            "num_feat_8    0.0\n",
            "num_feat_9    0.0\n",
            "cat_feat_0    0.0\n",
            "cat_feat_1    0.0\n",
            "cat_feat_2    0.0\n",
            "cat_feat_3    0.0\n",
            "cat_feat_4    0.0\n",
            "dtype: float64\n",
            "\n",
            "Highly Correlated Features:\n",
            "['num_feat_0', 'num_feat_1', 'num_feat_2', 'num_feat_3', 'num_feat_4', 'num_feat_5', 'num_feat_6', 'num_feat_7', 'num_feat_8', 'num_feat_9']\n",
            "\n",
            "Low Variance Features:\n",
            "[]\n",
            "\n",
            "Random Forest Feature Importances:\n",
            "num_feat_5    0.147043\n",
            "num_feat_2    0.110564\n",
            "num_feat_4    0.101643\n",
            "cat_feat_2    0.096995\n",
            "num_feat_0    0.076848\n",
            "num_feat_7    0.074735\n",
            "cat_feat_0    0.063565\n",
            "num_feat_3    0.059017\n",
            "num_feat_8    0.058311\n",
            "cat_feat_3    0.051771\n",
            "cat_feat_4    0.047538\n",
            "num_feat_1    0.047517\n",
            "cat_feat_1    0.023160\n",
            "num_feat_6    0.021010\n",
            "num_feat_9    0.020283\n",
            "dtype: float64\n"
          ]
        },
        {
          "output_type": "stream",
          "name": "stderr",
          "text": [
            "/usr/local/lib/python3.10/dist-packages/sklearn/linear_model/_logistic.py:458: ConvergenceWarning: lbfgs failed to converge (status=1):\n",
            "STOP: TOTAL NO. of ITERATIONS REACHED LIMIT.\n",
            "\n",
            "Increase the number of iterations (max_iter) or scale the data as shown in:\n",
            "    https://scikit-learn.org/stable/modules/preprocessing.html\n",
            "Please also refer to the documentation for alternative solver options:\n",
            "    https://scikit-learn.org/stable/modules/linear_model.html#logistic-regression\n",
            "  n_iter_i = _check_optimize_result(\n",
            "/usr/local/lib/python3.10/dist-packages/sklearn/linear_model/_logistic.py:458: ConvergenceWarning: lbfgs failed to converge (status=1):\n",
            "STOP: TOTAL NO. of ITERATIONS REACHED LIMIT.\n",
            "\n",
            "Increase the number of iterations (max_iter) or scale the data as shown in:\n",
            "    https://scikit-learn.org/stable/modules/preprocessing.html\n",
            "Please also refer to the documentation for alternative solver options:\n",
            "    https://scikit-learn.org/stable/modules/linear_model.html#logistic-regression\n",
            "  n_iter_i = _check_optimize_result(\n",
            "/usr/local/lib/python3.10/dist-packages/sklearn/linear_model/_logistic.py:458: ConvergenceWarning: lbfgs failed to converge (status=1):\n",
            "STOP: TOTAL NO. of ITERATIONS REACHED LIMIT.\n",
            "\n",
            "Increase the number of iterations (max_iter) or scale the data as shown in:\n",
            "    https://scikit-learn.org/stable/modules/preprocessing.html\n",
            "Please also refer to the documentation for alternative solver options:\n",
            "    https://scikit-learn.org/stable/modules/linear_model.html#logistic-regression\n",
            "  n_iter_i = _check_optimize_result(\n",
            "/usr/local/lib/python3.10/dist-packages/sklearn/linear_model/_logistic.py:458: ConvergenceWarning: lbfgs failed to converge (status=1):\n",
            "STOP: TOTAL NO. of ITERATIONS REACHED LIMIT.\n",
            "\n",
            "Increase the number of iterations (max_iter) or scale the data as shown in:\n",
            "    https://scikit-learn.org/stable/modules/preprocessing.html\n",
            "Please also refer to the documentation for alternative solver options:\n",
            "    https://scikit-learn.org/stable/modules/linear_model.html#logistic-regression\n",
            "  n_iter_i = _check_optimize_result(\n",
            "/usr/local/lib/python3.10/dist-packages/sklearn/linear_model/_logistic.py:458: ConvergenceWarning: lbfgs failed to converge (status=1):\n",
            "STOP: TOTAL NO. of ITERATIONS REACHED LIMIT.\n",
            "\n",
            "Increase the number of iterations (max_iter) or scale the data as shown in:\n",
            "    https://scikit-learn.org/stable/modules/preprocessing.html\n",
            "Please also refer to the documentation for alternative solver options:\n",
            "    https://scikit-learn.org/stable/modules/linear_model.html#logistic-regression\n",
            "  n_iter_i = _check_optimize_result(\n"
          ]
        },
        {
          "output_type": "stream",
          "name": "stdout",
          "text": [
            "\n",
            "Forward Feature Selection Selected Features:\n",
            "Index(['num_feat_2', 'num_feat_4', 'num_feat_5', 'num_feat_7', 'num_feat_8'], dtype='object')\n"
          ]
        },
        {
          "output_type": "stream",
          "name": "stderr",
          "text": [
            "/usr/local/lib/python3.10/dist-packages/sklearn/linear_model/_logistic.py:458: ConvergenceWarning: lbfgs failed to converge (status=1):\n",
            "STOP: TOTAL NO. of ITERATIONS REACHED LIMIT.\n",
            "\n",
            "Increase the number of iterations (max_iter) or scale the data as shown in:\n",
            "    https://scikit-learn.org/stable/modules/preprocessing.html\n",
            "Please also refer to the documentation for alternative solver options:\n",
            "    https://scikit-learn.org/stable/modules/linear_model.html#logistic-regression\n",
            "  n_iter_i = _check_optimize_result(\n",
            "/usr/local/lib/python3.10/dist-packages/sklearn/linear_model/_logistic.py:458: ConvergenceWarning: lbfgs failed to converge (status=1):\n",
            "STOP: TOTAL NO. of ITERATIONS REACHED LIMIT.\n",
            "\n",
            "Increase the number of iterations (max_iter) or scale the data as shown in:\n",
            "    https://scikit-learn.org/stable/modules/preprocessing.html\n",
            "Please also refer to the documentation for alternative solver options:\n",
            "    https://scikit-learn.org/stable/modules/linear_model.html#logistic-regression\n",
            "  n_iter_i = _check_optimize_result(\n",
            "/usr/local/lib/python3.10/dist-packages/sklearn/linear_model/_logistic.py:458: ConvergenceWarning: lbfgs failed to converge (status=1):\n",
            "STOP: TOTAL NO. of ITERATIONS REACHED LIMIT.\n",
            "\n",
            "Increase the number of iterations (max_iter) or scale the data as shown in:\n",
            "    https://scikit-learn.org/stable/modules/preprocessing.html\n",
            "Please also refer to the documentation for alternative solver options:\n",
            "    https://scikit-learn.org/stable/modules/linear_model.html#logistic-regression\n",
            "  n_iter_i = _check_optimize_result(\n",
            "/usr/local/lib/python3.10/dist-packages/sklearn/linear_model/_logistic.py:458: ConvergenceWarning: lbfgs failed to converge (status=1):\n",
            "STOP: TOTAL NO. of ITERATIONS REACHED LIMIT.\n",
            "\n",
            "Increase the number of iterations (max_iter) or scale the data as shown in:\n",
            "    https://scikit-learn.org/stable/modules/preprocessing.html\n",
            "Please also refer to the documentation for alternative solver options:\n",
            "    https://scikit-learn.org/stable/modules/linear_model.html#logistic-regression\n",
            "  n_iter_i = _check_optimize_result(\n",
            "/usr/local/lib/python3.10/dist-packages/sklearn/linear_model/_logistic.py:458: ConvergenceWarning: lbfgs failed to converge (status=1):\n",
            "STOP: TOTAL NO. of ITERATIONS REACHED LIMIT.\n",
            "\n",
            "Increase the number of iterations (max_iter) or scale the data as shown in:\n",
            "    https://scikit-learn.org/stable/modules/preprocessing.html\n",
            "Please also refer to the documentation for alternative solver options:\n",
            "    https://scikit-learn.org/stable/modules/linear_model.html#logistic-regression\n",
            "  n_iter_i = _check_optimize_result(\n",
            "/usr/local/lib/python3.10/dist-packages/sklearn/linear_model/_logistic.py:458: ConvergenceWarning: lbfgs failed to converge (status=1):\n",
            "STOP: TOTAL NO. of ITERATIONS REACHED LIMIT.\n",
            "\n",
            "Increase the number of iterations (max_iter) or scale the data as shown in:\n",
            "    https://scikit-learn.org/stable/modules/preprocessing.html\n",
            "Please also refer to the documentation for alternative solver options:\n",
            "    https://scikit-learn.org/stable/modules/linear_model.html#logistic-regression\n",
            "  n_iter_i = _check_optimize_result(\n",
            "/usr/local/lib/python3.10/dist-packages/sklearn/linear_model/_logistic.py:458: ConvergenceWarning: lbfgs failed to converge (status=1):\n",
            "STOP: TOTAL NO. of ITERATIONS REACHED LIMIT.\n",
            "\n",
            "Increase the number of iterations (max_iter) or scale the data as shown in:\n",
            "    https://scikit-learn.org/stable/modules/preprocessing.html\n",
            "Please also refer to the documentation for alternative solver options:\n",
            "    https://scikit-learn.org/stable/modules/linear_model.html#logistic-regression\n",
            "  n_iter_i = _check_optimize_result(\n",
            "/usr/local/lib/python3.10/dist-packages/sklearn/linear_model/_logistic.py:458: ConvergenceWarning: lbfgs failed to converge (status=1):\n",
            "STOP: TOTAL NO. of ITERATIONS REACHED LIMIT.\n",
            "\n",
            "Increase the number of iterations (max_iter) or scale the data as shown in:\n",
            "    https://scikit-learn.org/stable/modules/preprocessing.html\n",
            "Please also refer to the documentation for alternative solver options:\n",
            "    https://scikit-learn.org/stable/modules/linear_model.html#logistic-regression\n",
            "  n_iter_i = _check_optimize_result(\n",
            "/usr/local/lib/python3.10/dist-packages/sklearn/linear_model/_logistic.py:458: ConvergenceWarning: lbfgs failed to converge (status=1):\n",
            "STOP: TOTAL NO. of ITERATIONS REACHED LIMIT.\n",
            "\n",
            "Increase the number of iterations (max_iter) or scale the data as shown in:\n",
            "    https://scikit-learn.org/stable/modules/preprocessing.html\n",
            "Please also refer to the documentation for alternative solver options:\n",
            "    https://scikit-learn.org/stable/modules/linear_model.html#logistic-regression\n",
            "  n_iter_i = _check_optimize_result(\n",
            "/usr/local/lib/python3.10/dist-packages/sklearn/linear_model/_logistic.py:458: ConvergenceWarning: lbfgs failed to converge (status=1):\n",
            "STOP: TOTAL NO. of ITERATIONS REACHED LIMIT.\n",
            "\n",
            "Increase the number of iterations (max_iter) or scale the data as shown in:\n",
            "    https://scikit-learn.org/stable/modules/preprocessing.html\n",
            "Please also refer to the documentation for alternative solver options:\n",
            "    https://scikit-learn.org/stable/modules/linear_model.html#logistic-regression\n",
            "  n_iter_i = _check_optimize_result(\n",
            "/usr/local/lib/python3.10/dist-packages/sklearn/linear_model/_logistic.py:458: ConvergenceWarning: lbfgs failed to converge (status=1):\n",
            "STOP: TOTAL NO. of ITERATIONS REACHED LIMIT.\n",
            "\n",
            "Increase the number of iterations (max_iter) or scale the data as shown in:\n",
            "    https://scikit-learn.org/stable/modules/preprocessing.html\n",
            "Please also refer to the documentation for alternative solver options:\n",
            "    https://scikit-learn.org/stable/modules/linear_model.html#logistic-regression\n",
            "  n_iter_i = _check_optimize_result(\n",
            "/usr/local/lib/python3.10/dist-packages/sklearn/linear_model/_logistic.py:458: ConvergenceWarning: lbfgs failed to converge (status=1):\n",
            "STOP: TOTAL NO. of ITERATIONS REACHED LIMIT.\n",
            "\n",
            "Increase the number of iterations (max_iter) or scale the data as shown in:\n",
            "    https://scikit-learn.org/stable/modules/preprocessing.html\n",
            "Please also refer to the documentation for alternative solver options:\n",
            "    https://scikit-learn.org/stable/modules/linear_model.html#logistic-regression\n",
            "  n_iter_i = _check_optimize_result(\n",
            "/usr/local/lib/python3.10/dist-packages/sklearn/linear_model/_logistic.py:458: ConvergenceWarning: lbfgs failed to converge (status=1):\n",
            "STOP: TOTAL NO. of ITERATIONS REACHED LIMIT.\n",
            "\n",
            "Increase the number of iterations (max_iter) or scale the data as shown in:\n",
            "    https://scikit-learn.org/stable/modules/preprocessing.html\n",
            "Please also refer to the documentation for alternative solver options:\n",
            "    https://scikit-learn.org/stable/modules/linear_model.html#logistic-regression\n",
            "  n_iter_i = _check_optimize_result(\n",
            "/usr/local/lib/python3.10/dist-packages/sklearn/linear_model/_logistic.py:458: ConvergenceWarning: lbfgs failed to converge (status=1):\n",
            "STOP: TOTAL NO. of ITERATIONS REACHED LIMIT.\n",
            "\n",
            "Increase the number of iterations (max_iter) or scale the data as shown in:\n",
            "    https://scikit-learn.org/stable/modules/preprocessing.html\n",
            "Please also refer to the documentation for alternative solver options:\n",
            "    https://scikit-learn.org/stable/modules/linear_model.html#logistic-regression\n",
            "  n_iter_i = _check_optimize_result(\n",
            "/usr/local/lib/python3.10/dist-packages/sklearn/linear_model/_logistic.py:458: ConvergenceWarning: lbfgs failed to converge (status=1):\n",
            "STOP: TOTAL NO. of ITERATIONS REACHED LIMIT.\n",
            "\n",
            "Increase the number of iterations (max_iter) or scale the data as shown in:\n",
            "    https://scikit-learn.org/stable/modules/preprocessing.html\n",
            "Please also refer to the documentation for alternative solver options:\n",
            "    https://scikit-learn.org/stable/modules/linear_model.html#logistic-regression\n",
            "  n_iter_i = _check_optimize_result(\n",
            "/usr/local/lib/python3.10/dist-packages/sklearn/linear_model/_logistic.py:458: ConvergenceWarning: lbfgs failed to converge (status=1):\n",
            "STOP: TOTAL NO. of ITERATIONS REACHED LIMIT.\n",
            "\n",
            "Increase the number of iterations (max_iter) or scale the data as shown in:\n",
            "    https://scikit-learn.org/stable/modules/preprocessing.html\n",
            "Please also refer to the documentation for alternative solver options:\n",
            "    https://scikit-learn.org/stable/modules/linear_model.html#logistic-regression\n",
            "  n_iter_i = _check_optimize_result(\n",
            "/usr/local/lib/python3.10/dist-packages/sklearn/linear_model/_logistic.py:458: ConvergenceWarning: lbfgs failed to converge (status=1):\n",
            "STOP: TOTAL NO. of ITERATIONS REACHED LIMIT.\n",
            "\n",
            "Increase the number of iterations (max_iter) or scale the data as shown in:\n",
            "    https://scikit-learn.org/stable/modules/preprocessing.html\n",
            "Please also refer to the documentation for alternative solver options:\n",
            "    https://scikit-learn.org/stable/modules/linear_model.html#logistic-regression\n",
            "  n_iter_i = _check_optimize_result(\n",
            "/usr/local/lib/python3.10/dist-packages/sklearn/linear_model/_logistic.py:458: ConvergenceWarning: lbfgs failed to converge (status=1):\n",
            "STOP: TOTAL NO. of ITERATIONS REACHED LIMIT.\n",
            "\n",
            "Increase the number of iterations (max_iter) or scale the data as shown in:\n",
            "    https://scikit-learn.org/stable/modules/preprocessing.html\n",
            "Please also refer to the documentation for alternative solver options:\n",
            "    https://scikit-learn.org/stable/modules/linear_model.html#logistic-regression\n",
            "  n_iter_i = _check_optimize_result(\n",
            "/usr/local/lib/python3.10/dist-packages/sklearn/linear_model/_logistic.py:458: ConvergenceWarning: lbfgs failed to converge (status=1):\n",
            "STOP: TOTAL NO. of ITERATIONS REACHED LIMIT.\n",
            "\n",
            "Increase the number of iterations (max_iter) or scale the data as shown in:\n",
            "    https://scikit-learn.org/stable/modules/preprocessing.html\n",
            "Please also refer to the documentation for alternative solver options:\n",
            "    https://scikit-learn.org/stable/modules/linear_model.html#logistic-regression\n",
            "  n_iter_i = _check_optimize_result(\n",
            "/usr/local/lib/python3.10/dist-packages/sklearn/linear_model/_logistic.py:458: ConvergenceWarning: lbfgs failed to converge (status=1):\n",
            "STOP: TOTAL NO. of ITERATIONS REACHED LIMIT.\n",
            "\n",
            "Increase the number of iterations (max_iter) or scale the data as shown in:\n",
            "    https://scikit-learn.org/stable/modules/preprocessing.html\n",
            "Please also refer to the documentation for alternative solver options:\n",
            "    https://scikit-learn.org/stable/modules/linear_model.html#logistic-regression\n",
            "  n_iter_i = _check_optimize_result(\n",
            "/usr/local/lib/python3.10/dist-packages/sklearn/linear_model/_logistic.py:458: ConvergenceWarning: lbfgs failed to converge (status=1):\n",
            "STOP: TOTAL NO. of ITERATIONS REACHED LIMIT.\n",
            "\n",
            "Increase the number of iterations (max_iter) or scale the data as shown in:\n",
            "    https://scikit-learn.org/stable/modules/preprocessing.html\n",
            "Please also refer to the documentation for alternative solver options:\n",
            "    https://scikit-learn.org/stable/modules/linear_model.html#logistic-regression\n",
            "  n_iter_i = _check_optimize_result(\n",
            "/usr/local/lib/python3.10/dist-packages/sklearn/linear_model/_logistic.py:458: ConvergenceWarning: lbfgs failed to converge (status=1):\n",
            "STOP: TOTAL NO. of ITERATIONS REACHED LIMIT.\n",
            "\n",
            "Increase the number of iterations (max_iter) or scale the data as shown in:\n",
            "    https://scikit-learn.org/stable/modules/preprocessing.html\n",
            "Please also refer to the documentation for alternative solver options:\n",
            "    https://scikit-learn.org/stable/modules/linear_model.html#logistic-regression\n",
            "  n_iter_i = _check_optimize_result(\n",
            "/usr/local/lib/python3.10/dist-packages/sklearn/linear_model/_logistic.py:458: ConvergenceWarning: lbfgs failed to converge (status=1):\n",
            "STOP: TOTAL NO. of ITERATIONS REACHED LIMIT.\n",
            "\n",
            "Increase the number of iterations (max_iter) or scale the data as shown in:\n",
            "    https://scikit-learn.org/stable/modules/preprocessing.html\n",
            "Please also refer to the documentation for alternative solver options:\n",
            "    https://scikit-learn.org/stable/modules/linear_model.html#logistic-regression\n",
            "  n_iter_i = _check_optimize_result(\n",
            "/usr/local/lib/python3.10/dist-packages/sklearn/linear_model/_logistic.py:458: ConvergenceWarning: lbfgs failed to converge (status=1):\n",
            "STOP: TOTAL NO. of ITERATIONS REACHED LIMIT.\n",
            "\n",
            "Increase the number of iterations (max_iter) or scale the data as shown in:\n",
            "    https://scikit-learn.org/stable/modules/preprocessing.html\n",
            "Please also refer to the documentation for alternative solver options:\n",
            "    https://scikit-learn.org/stable/modules/linear_model.html#logistic-regression\n",
            "  n_iter_i = _check_optimize_result(\n",
            "/usr/local/lib/python3.10/dist-packages/sklearn/linear_model/_logistic.py:458: ConvergenceWarning: lbfgs failed to converge (status=1):\n",
            "STOP: TOTAL NO. of ITERATIONS REACHED LIMIT.\n",
            "\n",
            "Increase the number of iterations (max_iter) or scale the data as shown in:\n",
            "    https://scikit-learn.org/stable/modules/preprocessing.html\n",
            "Please also refer to the documentation for alternative solver options:\n",
            "    https://scikit-learn.org/stable/modules/linear_model.html#logistic-regression\n",
            "  n_iter_i = _check_optimize_result(\n",
            "/usr/local/lib/python3.10/dist-packages/sklearn/linear_model/_logistic.py:458: ConvergenceWarning: lbfgs failed to converge (status=1):\n",
            "STOP: TOTAL NO. of ITERATIONS REACHED LIMIT.\n",
            "\n",
            "Increase the number of iterations (max_iter) or scale the data as shown in:\n",
            "    https://scikit-learn.org/stable/modules/preprocessing.html\n",
            "Please also refer to the documentation for alternative solver options:\n",
            "    https://scikit-learn.org/stable/modules/linear_model.html#logistic-regression\n",
            "  n_iter_i = _check_optimize_result(\n",
            "/usr/local/lib/python3.10/dist-packages/sklearn/linear_model/_logistic.py:458: ConvergenceWarning: lbfgs failed to converge (status=1):\n",
            "STOP: TOTAL NO. of ITERATIONS REACHED LIMIT.\n",
            "\n",
            "Increase the number of iterations (max_iter) or scale the data as shown in:\n",
            "    https://scikit-learn.org/stable/modules/preprocessing.html\n",
            "Please also refer to the documentation for alternative solver options:\n",
            "    https://scikit-learn.org/stable/modules/linear_model.html#logistic-regression\n",
            "  n_iter_i = _check_optimize_result(\n"
          ]
        },
        {
          "output_type": "stream",
          "name": "stdout",
          "text": [
            "\n",
            "Backward Feature Elimination Selected Features:\n",
            "Index(['num_feat_0', 'num_feat_1', 'num_feat_2', 'num_feat_3', 'num_feat_4',\n",
            "       'num_feat_5', 'num_feat_6', 'num_feat_7', 'num_feat_8', 'num_feat_9',\n",
            "       'cat_feat_0', 'cat_feat_3', 'cat_feat_4'],\n",
            "      dtype='object')\n"
          ]
        },
        {
          "output_type": "stream",
          "name": "stderr",
          "text": [
            "/usr/local/lib/python3.10/dist-packages/sklearn/linear_model/_logistic.py:458: ConvergenceWarning: lbfgs failed to converge (status=1):\n",
            "STOP: TOTAL NO. of ITERATIONS REACHED LIMIT.\n",
            "\n",
            "Increase the number of iterations (max_iter) or scale the data as shown in:\n",
            "    https://scikit-learn.org/stable/modules/preprocessing.html\n",
            "Please also refer to the documentation for alternative solver options:\n",
            "    https://scikit-learn.org/stable/modules/linear_model.html#logistic-regression\n",
            "  n_iter_i = _check_optimize_result(\n",
            "/usr/local/lib/python3.10/dist-packages/sklearn/linear_model/_logistic.py:458: ConvergenceWarning: lbfgs failed to converge (status=1):\n",
            "STOP: TOTAL NO. of ITERATIONS REACHED LIMIT.\n",
            "\n",
            "Increase the number of iterations (max_iter) or scale the data as shown in:\n",
            "    https://scikit-learn.org/stable/modules/preprocessing.html\n",
            "Please also refer to the documentation for alternative solver options:\n",
            "    https://scikit-learn.org/stable/modules/linear_model.html#logistic-regression\n",
            "  n_iter_i = _check_optimize_result(\n",
            "/usr/local/lib/python3.10/dist-packages/sklearn/linear_model/_logistic.py:458: ConvergenceWarning: lbfgs failed to converge (status=1):\n",
            "STOP: TOTAL NO. of ITERATIONS REACHED LIMIT.\n",
            "\n",
            "Increase the number of iterations (max_iter) or scale the data as shown in:\n",
            "    https://scikit-learn.org/stable/modules/preprocessing.html\n",
            "Please also refer to the documentation for alternative solver options:\n",
            "    https://scikit-learn.org/stable/modules/linear_model.html#logistic-regression\n",
            "  n_iter_i = _check_optimize_result(\n"
          ]
        },
        {
          "output_type": "execute_result",
          "data": {
            "text/plain": [
              "'\\nWhat: Performs backward feature elimination by iteratively removing features from a model and evaluating the performance.\\nWhy: To identify the most relevant subset of features for a specific model.\\nWhere: Commonly used as a feature selection method in machine learning.\\nWhen: During the feature selection and model building phase of the data science life cycle.\\nHow: Use the Recursive Feature Elimination with Cross-Validation (RFECV) method from scikit-learn.\\nOther: Backward feature elimination can be computationally expensive, especially for datasets with a large number of features.\\n'"
            ],
            "application/vnd.google.colaboratory.intrinsic+json": {
              "type": "string"
            }
          },
          "metadata": {},
          "execution_count": 16
        }
      ]
    },
    {
      "cell_type": "markdown",
      "source": [
        "# PCA"
      ],
      "metadata": {
        "id": "JQalQM6GUXDO"
      }
    },
    {
      "cell_type": "code",
      "source": [
        "from sklearn.datasets import load_iris\n",
        "from sklearn.decomposition import PCA\n",
        "import matplotlib.pyplot as plt\n",
        "\n",
        "# Load the iris dataset\n",
        "iris = load_iris()\n",
        "X = iris.data\n",
        "\n",
        "# Create a PCA instance\n",
        "pca = PCA(n_components=2)\n",
        "\n",
        "# Fit and transform the data\n",
        "X_pca = pca.fit_transform(X)\n",
        "\n",
        "# Plot the data in the new 2D space\n",
        "plt.figure(figsize=(8, 6))\n",
        "plt.scatter(X_pca[:, 0], X_pca[:, 1], c=iris.target, cmap='viridis')\n",
        "plt.title('Iris Dataset Projected onto the First Two Principal Components')\n",
        "plt.xlabel('Principal Component 1')\n",
        "plt.ylabel('Principal Component 2')\n",
        "plt.show()"
      ],
      "metadata": {
        "colab": {
          "base_uri": "https://localhost:8080/",
          "height": 564
        },
        "id": "Y9PXmwWpOM6Z",
        "outputId": "76bd0b1c-d9b9-425d-e3b5-ebfa26f301fa"
      },
      "execution_count": null,
      "outputs": [
        {
          "output_type": "display_data",
          "data": {
            "text/plain": [
              "<Figure size 800x600 with 1 Axes>"
            ],
            "image/png": "[encoded data removed]"
          },
          "metadata": {}
        }
      ]
    },
    {
      "cell_type": "code",
      "source": [
        "import pandas as pd\n",
        "from sklearn.preprocessing import StandardScaler\n",
        "from sklearn.decomposition import FactorAnalysis\n",
        "from sklearn.decomposition import TruncatedSVD\n",
        "from sklearn.feature_selection import mutual_info_classif\n",
        "from sklearn.linear_model import Lasso, Ridge\n",
        "\n",
        "# Assume sample dataset\n",
        "data = pd.DataFrame({\n",
        "    'numerical_feature_1': np.random.rand(100),\n",
        "    'numerical_feature_2': np.random.rand(100),\n",
        "    'categorical_feature_1': np.random.choice(['A', 'B', 'C'], size=100),\n",
        "    'categorical_feature_2': np.random.choice(['X', 'Y', 'Z'], size=100),\n",
        "    'target': np.random.choice([0, 1], size=100)\n",
        "})\n",
        "\n",
        "# Separate features and target variable\n",
        "X = data.drop('target', axis=1)\n",
        "y = data['target']\n",
        "# One-hot encode categorical features\n",
        "X_encoded = pd.get_dummies(X)\n",
        "\n",
        "# Now, you can proceed with applying the feature selection or modeling techniques\n",
        "\n",
        "# Mutual Information\n",
        "mi_scores = mutual_info_classif(X_encoded, y)\n",
        "\n",
        "# Lasso Regression\n",
        "lasso = Lasso(alpha=0.1)\n",
        "lasso.fit(X_encoded, y)\n",
        "lasso_coefs = lasso.coef_\n",
        "\n",
        "# Ridge Regression\n",
        "# Ridge Regression\n",
        "ridge = Ridge(alpha=0.1)\n",
        "ridge.fit(X_encoded, y)\n",
        "ridge_coefs = ridge.coef_\n",
        "\n",
        "# Factor Analysis\n",
        "fa = FactorAnalysis(n_components=2)\n",
        "X_fa = fa.fit_transform(X_encoded)\n",
        "\n",
        "# Singular Value Decomposition (SVD)\n",
        "svd = TruncatedSVD(n_components=2)\n",
        "X_svd = svd.fit_transform(X_encoded)\n",
        "\n",
        "# Print results\n",
        "print(\"Mutual Information Scores:\", mi_scores)\n",
        "print(\"Lasso Regression Coefficients:\", lasso_coefs)\n",
        "print(\"Ridge Regression Coefficients:\", ridge_coefs)\n",
        "print(\"Factor Analysis Components:\", fa.components_)\n",
        "print(\"Singular Vectors (SVD):\", svd.components_)\n"
      ],
      "metadata": {
        "colab": {
          "base_uri": "https://localhost:8080/"
        },
        "id": "Ra4As4qGaoJX",
        "outputId": "12729e6a-8399-4cf5-824c-1bf05fe9aa9d"
      },
      "execution_count": null,
      "outputs": [
        {
          "output_type": "stream",
          "name": "stdout",
          "text": [
            "Mutual Information Scores: [0 0 0 0 0 0 0 0]\n",
            "Lasso Regression Coefficients: [-0. -0.  0. -0.  0. -0.  0.  0.]\n",
            "Ridge Regression Coefficients: [-0.0093465  -0.01325616  0.01395544 -0.0511041   0.03714865 -0.16681614\n",
            "  0.13115088  0.03566526]\n",
            "Factor Analysis Components: [[-3.08493239e-03  5.99739894e-03  4.85071249e-02 -4.85071250e-02\n",
            "   2.77740278e-14 -8.36655437e-13 -4.12310563e-01  4.12310563e-01]\n",
            " [-9.03265042e-03 -4.38353606e-04 -4.54471251e-02  6.60269553e-02\n",
            "  -2.05798302e-02  4.66476152e-01 -2.33238076e-01 -2.33238076e-01]]\n",
            "Singular Vectors (SVD): [[ 0.52199414  0.43991078  0.386874    0.26790006  0.22813716  0.27350669\n",
            "   0.30159784  0.30780669]\n",
            " [-0.05219709 -0.04701684  0.5650108  -0.52249024 -0.10667595 -0.35702633\n",
            "  -0.18605316  0.4789241 ]]\n"
          ]
        }
      ]
    },
    {
      "cell_type": "code",
      "source": [
        "import pandas as pd\n",
        "import numpy as np\n",
        "from sklearn.datasets import make_classification\n",
        "from sklearn.feature_selection import mutual_info_classif\n",
        "from sklearn.linear_model import Lasso, Ridge\n",
        "from sklearn.decomposition import FactorAnalysis, TruncatedSVD\n",
        "from sklearn.preprocessing import LabelEncoder\n",
        "\n",
        "# Generate a synthetic dataset with 15 features (10 numerical, 5 categorical)\n",
        "X, y = make_classification(n_samples=1000, n_features=15, n_informative=10, n_redundant=2, n_repeated=0, n_classes=2, random_state=42)\n",
        "X = pd.DataFrame(X, columns=[f'num_feat_{i}' for i in range(10)] + [f'cat_feat_{i}' for i in range(5)])\n",
        "\n",
        "# Convert categorical features to strings\n",
        "for col in X.columns[-5:]:\n",
        "    X[col] = X[col].astype('category').cat.codes.astype('str')\n",
        "\n",
        "# Split the dataset into numerical and categorical features\n",
        "num_cols = X.columns[:10]\n",
        "cat_cols = X.columns[10:]\n",
        "\n",
        "# Mutual Information\n",
        "mutual_info = mutual_info_classif(X[num_cols], y)\n",
        "mutual_info_scores = pd.Series(mutual_info, index=num_cols)\n",
        "print(\"Mutual Information Scores:\")\n",
        "print(mutual_info_scores.sort_values(ascending=False))\n",
        "\"\"\"\n",
        "What: Mutual Information is a measure of the mutual dependence between two variables.\n",
        "Why: To identify relevant features by quantifying the amount of information each feature provides about the target variable.\n",
        "Where: Commonly used as a feature selection method in machine learning.\n",
        "When: During the feature selection and model building phase of the data science life cycle.\n",
        "How: Use the mutual_info_classif function from scikit-learn to calculate the Mutual Information scores for numerical features.\n",
        "Other: Mutual Information can handle both continuous and categorical features effectively and is less biased towards features with more distinct values compared to Information Gain.\n",
        "\"\"\"\n",
        "\n",
        "# Lasso (Least Absolute Shrinkage and Selection Operator)\n",
        "lasso = Lasso(alpha=0.1)\n",
        "lasso.fit(X[num_cols], y)\n",
        "lasso_coef = lasso.coef_\n",
        "selected_features = num_cols[lasso_coef != 0]\n",
        "print(\"\\nLasso Selected Features:\")\n",
        "print(selected_features)\n",
        "\"\"\"\n",
        "What: Lasso is a linear regression method that applies L1 regularization, which can drive some coefficients to exactly zero, effectively performing feature selection.\n",
        "Why: To select the most relevant features while building a sparse linear model that can be easily interpreted.\n",
        "Where: Commonly used for both feature selection and model building, especially in regression tasks.\n",
        "When: During the model training and feature selection phase of the data science life cycle.\n",
        "How: Fit a Lasso model on the numerical features and target variable, and identify the selected features based on non-zero coefficients.\n",
        "Other: The alpha parameter controls the regularization strength and can be tuned using techniques like cross-validation.\n",
        "\"\"\"\n",
        "\n",
        "# Ridge Regression\n",
        "ridge = Ridge(alpha=0.5)\n",
        "ridge.fit(X[num_cols], y)\n",
        "ridge_coef = ridge.coef_\n",
        "print(\"\\nRidge Regression Coefficients:\")\n",
        "print(pd.Series(ridge_coef, index=num_cols))\n",
        "\"\"\"\n",
        "What: Ridge Regression is a linear regression method that applies L2 regularization, which shrinks the coefficients towards zero but does not set them exactly to zero.\n",
        "Why: To reduce the impact of multicollinearity and improve the model's generalization performance.\n",
        "Where: Commonly used in regression tasks, especially when dealing with multicollinear features.\n",
        "When: During the model training phase of the data science life cycle.\n",
        "How: Fit a Ridge Regression model on the numerical features and target variable, and examine the estimated coefficients.\n",
        "Other: Ridge Regression does not perform explicit feature selection but can be used in conjunction with other feature selection methods.\n",
        "\"\"\"\n",
        "\n",
        "# Factor Analysis\n",
        "fa = FactorAnalysis(n_components=5)\n",
        "fa.fit(X[num_cols])\n",
        "loadings = fa.components_.T\n",
        "print(\"\\nFactor Analysis Loadings:\")\n",
        "print(pd.DataFrame(loadings, index=num_cols))\n",
        "\"\"\"\n",
        "What: Factor Analysis is a dimensionality reduction technique that aims to identify underlying latent factors (or components) that explain the variance in the observed variables.\n",
        "Why: To reduce the dimensionality of the data by identifying the most important latent factors, which can be used for feature selection or data transformation.\n",
        "Where: Commonly used in exploratory data analysis, feature selection, and data preprocessing.\n",
        "When: During the data exploration and preprocessing phase of the data science life cycle.\n",
        "How: Create an instance of FactorAnalysis and fit it to the numerical features, then examine the loadings (factor weights) to identify the most important features.\n",
        "Other: Factor Analysis assumes that the observed variables are linearly related to the latent factors and can be sensitive to deviations from normality.\n",
        "\"\"\"\n",
        "\n",
        "# Singular Value Decomposition (SVD)\n",
        "svd = TruncatedSVD(n_components=5)\n",
        "svd.fit(X[num_cols])\n",
        "loadings = svd.components_.T\n",
        "print(\"\\nSVD Loadings:\")\n",
        "print(pd.DataFrame(loadings, index=num_cols))\n",
        "\"\"\"\n",
        "What: Singular Value Decomposition (SVD) is a matrix factorization technique that can be used for dimensionality reduction and feature selection.\n",
        "Why: To identify the most important principal components (or singular vectors) that capture the maximum variance in the data.\n",
        "Where: Commonly used in dimensionality reduction, feature selection, and recommender systems.\n",
        "When: During the data exploration and preprocessing phase of the data science life cycle.\n",
        "How: Create an instance of TruncatedSVD and fit it to the numerical features, then examine the loadings (singular vectors) to identify the most important features.\n",
        "Other: SVD is a powerful technique that can handle both sparse and dense data, and it is often used as an alternative to Principal Component Analysis (PCA) for large datasets.\n",
        "\"\"\""
      ],
      "metadata": {
        "colab": {
          "base_uri": "https://localhost:8080/",
          "height": 1000
        },
        "id": "20aM60-maxMQ",
        "outputId": "f3a83392-9121-4263-e9fd-05b655c5325f"
      },
      "execution_count": null,
      "outputs": [
        {
          "output_type": "stream",
          "name": "stdout",
          "text": [
            "Mutual Information Scores:\n",
            "num_feat_5    0.098738\n",
            "num_feat_2    0.062133\n",
            "num_feat_4    0.047810\n",
            "num_feat_0    0.047133\n",
            "num_feat_3    0.046416\n",
            "num_feat_8    0.045282\n",
            "num_feat_7    0.026287\n",
            "num_feat_6    0.001789\n",
            "num_feat_1    0.000000\n",
            "num_feat_9    0.000000\n",
            "dtype: float64\n",
            "\n",
            "Lasso Selected Features:\n",
            "Index(['num_feat_2', 'num_feat_3', 'num_feat_4', 'num_feat_5', 'num_feat_7',\n",
            "       'num_feat_8'],\n",
            "      dtype='object')\n",
            "\n",
            "Ridge Regression Coefficients:\n",
            "num_feat_0    0.007444\n",
            "num_feat_1    0.002941\n",
            "num_feat_2    0.099155\n",
            "num_feat_3    0.011393\n",
            "num_feat_4    0.046666\n",
            "num_feat_5   -0.104190\n",
            "num_feat_6   -0.000945\n",
            "num_feat_7   -0.028173\n",
            "num_feat_8   -0.028555\n",
            "num_feat_9    0.001490\n",
            "dtype: float64\n",
            "\n",
            "Factor Analysis Loadings:\n",
            "                   0         1         2         3         4\n",
            "num_feat_0  3.559781 -0.451745  0.077991  0.063453 -0.131867\n",
            "num_feat_1 -0.179520 -0.174593 -0.335777 -0.452748  0.519430\n",
            "num_feat_2  0.147396  1.178875  1.461336  0.007375 -0.123544\n",
            "num_feat_3  0.583629 -0.617179  0.718093 -1.353255  0.865322\n",
            "num_feat_4 -0.727711 -1.599825  0.843495  0.323640 -0.047715\n",
            "num_feat_5  0.789610  0.648690  0.080452  1.436720  1.066051\n",
            "num_feat_6 -0.045664 -0.008313 -0.004399 -0.029524  0.005349\n",
            "num_feat_7 -0.334436 -0.303071 -0.083748  0.168346  0.885965\n",
            "num_feat_8 -0.970656  0.687029 -0.718095 -0.095592  0.361473\n",
            "num_feat_9  0.007690 -0.015834  0.017325  0.000217 -0.058559\n",
            "\n",
            "SVD Loadings:\n",
            "                   0         1         2         3         4\n",
            "num_feat_0 -0.892558  0.053563 -0.004051 -0.150053  0.135605\n",
            "num_feat_1  0.027500 -0.332247 -0.445410 -0.130514 -0.421810\n",
            "num_feat_2  0.008398  0.287048  0.383206  0.400513 -0.653846\n",
            "num_feat_3 -0.198822 -0.459888 -0.018278 -0.025922 -0.493028\n",
            "num_feat_4  0.146384 -0.451053  0.215872  0.505202  0.358099\n",
            "num_feat_5 -0.165798  0.493196 -0.395385  0.523691 -0.002719\n",
            "num_feat_6  0.006795 -0.009053 -0.009484 -0.026683 -0.005437\n",
            "num_feat_7  0.022200 -0.173157 -0.626417  0.335674  0.054993\n",
            "num_feat_8  0.336932  0.340709 -0.241465 -0.395537 -0.041366\n",
            "num_feat_9 -0.001724 -0.003295  0.026261 -0.006923  0.009442\n"
          ]
        },
        {
          "output_type": "execute_result",
          "data": {
            "text/plain": [
              "'\\nWhat: Singular Value Decomposition (SVD) is a matrix factorization technique that can be used for dimensionality reduction and feature selection.\\nWhy: To identify the most important principal components (or singular vectors) that capture the maximum variance in the data.\\nWhere: Commonly used in dimensionality reduction, feature selection, and recommender systems.\\nWhen: During the data exploration and preprocessing phase of the data science life cycle.\\nHow: Create an instance of TruncatedSVD and fit it to the numerical features, then examine the loadings (singular vectors) to identify the most important features.\\nOther: SVD is a powerful technique that can handle both sparse and dense data, and it is often used as an alternative to Principal Component Analysis (PCA) for large datasets.\\n'"
            ],
            "application/vnd.google.colaboratory.intrinsic+json": {
              "type": "string"
            }
          },
          "metadata": {},
          "execution_count": 19
        }
      ]
    }
  ]
}